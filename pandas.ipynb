{
 "cells": [
  {
   "cell_type": "code",
   "execution_count": 1,
   "id": "ed4bac88",
   "metadata": {},
   "outputs": [],
   "source": [
    "import numpy as np\n",
    "import pandas as pd"
   ]
  },
  {
   "cell_type": "code",
   "execution_count": null,
   "id": "b228268a",
   "metadata": {},
   "outputs": [],
   "source": []
  },
  {
   "cell_type": "code",
   "execution_count": 2,
   "id": "3c3df6c7",
   "metadata": {},
   "outputs": [],
   "source": [
    "dict1 = {\n",
    "    \"name\":['harry','potter','spiderman'],\n",
    "    \"marks\":['12','13','14'],\n",
    "    \"city\":['rampur','kolkata']\n",
    "}"
   ]
  },
  {
   "cell_type": "code",
   "execution_count": 4,
   "id": "292718f1",
   "metadata": {},
   "outputs": [],
   "source": [
    "dict1 = {\n",
    "    \"name\":['harry','potter','spiderman'],\n",
    "    \"marks\":['12','13','14'],\n",
    "    \"city\":['rampur','kolkata','varanasi']\n",
    "}"
   ]
  },
  {
   "cell_type": "code",
   "execution_count": 5,
   "id": "340dc7f6",
   "metadata": {},
   "outputs": [
    {
     "data": {
      "text/html": [
       "<div>\n",
       "<style scoped>\n",
       "    .dataframe tbody tr th:only-of-type {\n",
       "        vertical-align: middle;\n",
       "    }\n",
       "\n",
       "    .dataframe tbody tr th {\n",
       "        vertical-align: top;\n",
       "    }\n",
       "\n",
       "    .dataframe thead th {\n",
       "        text-align: right;\n",
       "    }\n",
       "</style>\n",
       "<table border=\"1\" class=\"dataframe\">\n",
       "  <thead>\n",
       "    <tr style=\"text-align: right;\">\n",
       "      <th></th>\n",
       "      <th>name</th>\n",
       "      <th>marks</th>\n",
       "      <th>city</th>\n",
       "    </tr>\n",
       "  </thead>\n",
       "  <tbody>\n",
       "    <tr>\n",
       "      <th>0</th>\n",
       "      <td>harry</td>\n",
       "      <td>12</td>\n",
       "      <td>rampur</td>\n",
       "    </tr>\n",
       "    <tr>\n",
       "      <th>1</th>\n",
       "      <td>potter</td>\n",
       "      <td>13</td>\n",
       "      <td>kolkata</td>\n",
       "    </tr>\n",
       "    <tr>\n",
       "      <th>2</th>\n",
       "      <td>spiderman</td>\n",
       "      <td>14</td>\n",
       "      <td>varanasi</td>\n",
       "    </tr>\n",
       "  </tbody>\n",
       "</table>\n",
       "</div>"
      ],
      "text/plain": [
       "        name marks      city\n",
       "0      harry    12    rampur\n",
       "1     potter    13   kolkata\n",
       "2  spiderman    14  varanasi"
      ]
     },
     "execution_count": 5,
     "metadata": {},
     "output_type": "execute_result"
    }
   ],
   "source": [
    "pd.DataFrame(dict1)"
   ]
  },
  {
   "cell_type": "code",
   "execution_count": 6,
   "id": "9590f2c5",
   "metadata": {},
   "outputs": [
    {
     "ename": "NameError",
     "evalue": "name 'df' is not defined",
     "output_type": "error",
     "traceback": [
      "\u001b[1;31m---------------------------------------------------------------------------\u001b[0m",
      "\u001b[1;31mNameError\u001b[0m                                 Traceback (most recent call last)",
      "Input \u001b[1;32mIn [6]\u001b[0m, in \u001b[0;36m<module>\u001b[1;34m\u001b[0m\n\u001b[1;32m----> 1\u001b[0m \u001b[43mdf\u001b[49m\u001b[38;5;241m.\u001b[39mto_csv(\u001b[38;5;124m'\u001b[39m\u001b[38;5;124mfriends.csv\u001b[39m\u001b[38;5;124m'\u001b[39m)\n",
      "\u001b[1;31mNameError\u001b[0m: name 'df' is not defined"
     ]
    }
   ],
   "source": [
    "df.to_csv('friends.csv')"
   ]
  },
  {
   "cell_type": "code",
   "execution_count": 7,
   "id": "8c3cc1b5",
   "metadata": {},
   "outputs": [],
   "source": [
    "df = pd.DataFrame(dict1)"
   ]
  },
  {
   "cell_type": "code",
   "execution_count": 8,
   "id": "1deedae8",
   "metadata": {},
   "outputs": [
    {
     "data": {
      "text/html": [
       "<div>\n",
       "<style scoped>\n",
       "    .dataframe tbody tr th:only-of-type {\n",
       "        vertical-align: middle;\n",
       "    }\n",
       "\n",
       "    .dataframe tbody tr th {\n",
       "        vertical-align: top;\n",
       "    }\n",
       "\n",
       "    .dataframe thead th {\n",
       "        text-align: right;\n",
       "    }\n",
       "</style>\n",
       "<table border=\"1\" class=\"dataframe\">\n",
       "  <thead>\n",
       "    <tr style=\"text-align: right;\">\n",
       "      <th></th>\n",
       "      <th>name</th>\n",
       "      <th>marks</th>\n",
       "      <th>city</th>\n",
       "    </tr>\n",
       "  </thead>\n",
       "  <tbody>\n",
       "    <tr>\n",
       "      <th>0</th>\n",
       "      <td>harry</td>\n",
       "      <td>12</td>\n",
       "      <td>rampur</td>\n",
       "    </tr>\n",
       "    <tr>\n",
       "      <th>1</th>\n",
       "      <td>potter</td>\n",
       "      <td>13</td>\n",
       "      <td>kolkata</td>\n",
       "    </tr>\n",
       "    <tr>\n",
       "      <th>2</th>\n",
       "      <td>spiderman</td>\n",
       "      <td>14</td>\n",
       "      <td>varanasi</td>\n",
       "    </tr>\n",
       "  </tbody>\n",
       "</table>\n",
       "</div>"
      ],
      "text/plain": [
       "        name marks      city\n",
       "0      harry    12    rampur\n",
       "1     potter    13   kolkata\n",
       "2  spiderman    14  varanasi"
      ]
     },
     "execution_count": 8,
     "metadata": {},
     "output_type": "execute_result"
    }
   ],
   "source": [
    "df"
   ]
  },
  {
   "cell_type": "code",
   "execution_count": 9,
   "id": "cb39b8d8",
   "metadata": {},
   "outputs": [],
   "source": [
    "df.to_csv('friends.csv')"
   ]
  },
  {
   "cell_type": "code",
   "execution_count": 10,
   "id": "3d43e4bc",
   "metadata": {},
   "outputs": [],
   "source": [
    "df.to_csv('friends_index_false.csv',index = False)"
   ]
  },
  {
   "cell_type": "code",
   "execution_count": 11,
   "id": "fafa9f3a",
   "metadata": {},
   "outputs": [
    {
     "data": {
      "text/html": [
       "<div>\n",
       "<style scoped>\n",
       "    .dataframe tbody tr th:only-of-type {\n",
       "        vertical-align: middle;\n",
       "    }\n",
       "\n",
       "    .dataframe tbody tr th {\n",
       "        vertical-align: top;\n",
       "    }\n",
       "\n",
       "    .dataframe thead th {\n",
       "        text-align: right;\n",
       "    }\n",
       "</style>\n",
       "<table border=\"1\" class=\"dataframe\">\n",
       "  <thead>\n",
       "    <tr style=\"text-align: right;\">\n",
       "      <th></th>\n",
       "      <th>name</th>\n",
       "      <th>marks</th>\n",
       "      <th>city</th>\n",
       "    </tr>\n",
       "  </thead>\n",
       "  <tbody>\n",
       "    <tr>\n",
       "      <th>0</th>\n",
       "      <td>harry</td>\n",
       "      <td>12</td>\n",
       "      <td>rampur</td>\n",
       "    </tr>\n",
       "    <tr>\n",
       "      <th>1</th>\n",
       "      <td>potter</td>\n",
       "      <td>13</td>\n",
       "      <td>kolkata</td>\n",
       "    </tr>\n",
       "  </tbody>\n",
       "</table>\n",
       "</div>"
      ],
      "text/plain": [
       "     name marks     city\n",
       "0   harry    12   rampur\n",
       "1  potter    13  kolkata"
      ]
     },
     "execution_count": 11,
     "metadata": {},
     "output_type": "execute_result"
    }
   ],
   "source": [
    "df.head(2)\n"
   ]
  },
  {
   "cell_type": "code",
   "execution_count": 12,
   "id": "3f32946b",
   "metadata": {},
   "outputs": [
    {
     "data": {
      "text/html": [
       "<div>\n",
       "<style scoped>\n",
       "    .dataframe tbody tr th:only-of-type {\n",
       "        vertical-align: middle;\n",
       "    }\n",
       "\n",
       "    .dataframe tbody tr th {\n",
       "        vertical-align: top;\n",
       "    }\n",
       "\n",
       "    .dataframe thead th {\n",
       "        text-align: right;\n",
       "    }\n",
       "</style>\n",
       "<table border=\"1\" class=\"dataframe\">\n",
       "  <thead>\n",
       "    <tr style=\"text-align: right;\">\n",
       "      <th></th>\n",
       "      <th>name</th>\n",
       "      <th>marks</th>\n",
       "      <th>city</th>\n",
       "    </tr>\n",
       "  </thead>\n",
       "  <tbody>\n",
       "    <tr>\n",
       "      <th>1</th>\n",
       "      <td>potter</td>\n",
       "      <td>13</td>\n",
       "      <td>kolkata</td>\n",
       "    </tr>\n",
       "    <tr>\n",
       "      <th>2</th>\n",
       "      <td>spiderman</td>\n",
       "      <td>14</td>\n",
       "      <td>varanasi</td>\n",
       "    </tr>\n",
       "  </tbody>\n",
       "</table>\n",
       "</div>"
      ],
      "text/plain": [
       "        name marks      city\n",
       "1     potter    13   kolkata\n",
       "2  spiderman    14  varanasi"
      ]
     },
     "execution_count": 12,
     "metadata": {},
     "output_type": "execute_result"
    }
   ],
   "source": [
    "df.tail(2)"
   ]
  },
  {
   "cell_type": "code",
   "execution_count": 13,
   "id": "85b6764c",
   "metadata": {},
   "outputs": [
    {
     "data": {
      "text/html": [
       "<div>\n",
       "<style scoped>\n",
       "    .dataframe tbody tr th:only-of-type {\n",
       "        vertical-align: middle;\n",
       "    }\n",
       "\n",
       "    .dataframe tbody tr th {\n",
       "        vertical-align: top;\n",
       "    }\n",
       "\n",
       "    .dataframe thead th {\n",
       "        text-align: right;\n",
       "    }\n",
       "</style>\n",
       "<table border=\"1\" class=\"dataframe\">\n",
       "  <thead>\n",
       "    <tr style=\"text-align: right;\">\n",
       "      <th></th>\n",
       "      <th>name</th>\n",
       "      <th>marks</th>\n",
       "      <th>city</th>\n",
       "    </tr>\n",
       "  </thead>\n",
       "  <tbody>\n",
       "    <tr>\n",
       "      <th>count</th>\n",
       "      <td>3</td>\n",
       "      <td>3</td>\n",
       "      <td>3</td>\n",
       "    </tr>\n",
       "    <tr>\n",
       "      <th>unique</th>\n",
       "      <td>3</td>\n",
       "      <td>3</td>\n",
       "      <td>3</td>\n",
       "    </tr>\n",
       "    <tr>\n",
       "      <th>top</th>\n",
       "      <td>harry</td>\n",
       "      <td>12</td>\n",
       "      <td>rampur</td>\n",
       "    </tr>\n",
       "    <tr>\n",
       "      <th>freq</th>\n",
       "      <td>1</td>\n",
       "      <td>1</td>\n",
       "      <td>1</td>\n",
       "    </tr>\n",
       "  </tbody>\n",
       "</table>\n",
       "</div>"
      ],
      "text/plain": [
       "         name marks    city\n",
       "count       3     3       3\n",
       "unique      3     3       3\n",
       "top     harry    12  rampur\n",
       "freq        1     1       1"
      ]
     },
     "execution_count": 13,
     "metadata": {},
     "output_type": "execute_result"
    }
   ],
   "source": [
    "df.describe()\n"
   ]
  },
  {
   "cell_type": "code",
   "execution_count": 14,
   "id": "a2215f8f",
   "metadata": {},
   "outputs": [],
   "source": [
    "ali = pd.read_csv('friends.csv')"
   ]
  },
  {
   "cell_type": "code",
   "execution_count": 15,
   "id": "fd13f50c",
   "metadata": {},
   "outputs": [
    {
     "data": {
      "text/html": [
       "<div>\n",
       "<style scoped>\n",
       "    .dataframe tbody tr th:only-of-type {\n",
       "        vertical-align: middle;\n",
       "    }\n",
       "\n",
       "    .dataframe tbody tr th {\n",
       "        vertical-align: top;\n",
       "    }\n",
       "\n",
       "    .dataframe thead th {\n",
       "        text-align: right;\n",
       "    }\n",
       "</style>\n",
       "<table border=\"1\" class=\"dataframe\">\n",
       "  <thead>\n",
       "    <tr style=\"text-align: right;\">\n",
       "      <th></th>\n",
       "      <th>Unnamed: 0</th>\n",
       "      <th>name</th>\n",
       "      <th>marks</th>\n",
       "      <th>city</th>\n",
       "    </tr>\n",
       "  </thead>\n",
       "  <tbody>\n",
       "    <tr>\n",
       "      <th>0</th>\n",
       "      <td>0</td>\n",
       "      <td>harry</td>\n",
       "      <td>12</td>\n",
       "      <td>rampur</td>\n",
       "    </tr>\n",
       "    <tr>\n",
       "      <th>1</th>\n",
       "      <td>1</td>\n",
       "      <td>potter</td>\n",
       "      <td>13</td>\n",
       "      <td>kolkata</td>\n",
       "    </tr>\n",
       "    <tr>\n",
       "      <th>2</th>\n",
       "      <td>2</td>\n",
       "      <td>spiderman</td>\n",
       "      <td>14</td>\n",
       "      <td>varanasi</td>\n",
       "    </tr>\n",
       "  </tbody>\n",
       "</table>\n",
       "</div>"
      ],
      "text/plain": [
       "   Unnamed: 0       name  marks      city\n",
       "0           0      harry     12    rampur\n",
       "1           1     potter     13   kolkata\n",
       "2           2  spiderman     14  varanasi"
      ]
     },
     "execution_count": 15,
     "metadata": {},
     "output_type": "execute_result"
    }
   ],
   "source": [
    "ali"
   ]
  },
  {
   "cell_type": "code",
   "execution_count": 16,
   "id": "bad8c11e",
   "metadata": {},
   "outputs": [
    {
     "data": {
      "text/plain": [
       "0    12\n",
       "1    13\n",
       "2    14\n",
       "Name: marks, dtype: int64"
      ]
     },
     "execution_count": 16,
     "metadata": {},
     "output_type": "execute_result"
    }
   ],
   "source": [
    "ali['marks']"
   ]
  },
  {
   "cell_type": "code",
   "execution_count": 17,
   "id": "82cd5fd8",
   "metadata": {},
   "outputs": [
    {
     "data": {
      "text/plain": [
       "12"
      ]
     },
     "execution_count": 17,
     "metadata": {},
     "output_type": "execute_result"
    }
   ],
   "source": [
    "ali['marks'][0]"
   ]
  },
  {
   "cell_type": "code",
   "execution_count": 18,
   "id": "7831b038",
   "metadata": {},
   "outputs": [
    {
     "name": "stderr",
     "output_type": "stream",
     "text": [
      "C:\\Users\\Lenovo\\AppData\\Local\\Temp/ipykernel_18324/1057649099.py:1: SettingWithCopyWarning: \n",
      "A value is trying to be set on a copy of a slice from a DataFrame\n",
      "\n",
      "See the caveats in the documentation: https://pandas.pydata.org/pandas-docs/stable/user_guide/indexing.html#returning-a-view-versus-a-copy\n",
      "  ali['marks'][0] = 11\n"
     ]
    }
   ],
   "source": [
    "ali['marks'][0] = 11"
   ]
  },
  {
   "cell_type": "code",
   "execution_count": 19,
   "id": "6c3638a8",
   "metadata": {},
   "outputs": [
    {
     "data": {
      "text/html": [
       "<div>\n",
       "<style scoped>\n",
       "    .dataframe tbody tr th:only-of-type {\n",
       "        vertical-align: middle;\n",
       "    }\n",
       "\n",
       "    .dataframe tbody tr th {\n",
       "        vertical-align: top;\n",
       "    }\n",
       "\n",
       "    .dataframe thead th {\n",
       "        text-align: right;\n",
       "    }\n",
       "</style>\n",
       "<table border=\"1\" class=\"dataframe\">\n",
       "  <thead>\n",
       "    <tr style=\"text-align: right;\">\n",
       "      <th></th>\n",
       "      <th>Unnamed: 0</th>\n",
       "      <th>name</th>\n",
       "      <th>marks</th>\n",
       "      <th>city</th>\n",
       "    </tr>\n",
       "  </thead>\n",
       "  <tbody>\n",
       "    <tr>\n",
       "      <th>0</th>\n",
       "      <td>0</td>\n",
       "      <td>harry</td>\n",
       "      <td>11</td>\n",
       "      <td>rampur</td>\n",
       "    </tr>\n",
       "    <tr>\n",
       "      <th>1</th>\n",
       "      <td>1</td>\n",
       "      <td>potter</td>\n",
       "      <td>13</td>\n",
       "      <td>kolkata</td>\n",
       "    </tr>\n",
       "    <tr>\n",
       "      <th>2</th>\n",
       "      <td>2</td>\n",
       "      <td>spiderman</td>\n",
       "      <td>14</td>\n",
       "      <td>varanasi</td>\n",
       "    </tr>\n",
       "  </tbody>\n",
       "</table>\n",
       "</div>"
      ],
      "text/plain": [
       "   Unnamed: 0       name  marks      city\n",
       "0           0      harry     11    rampur\n",
       "1           1     potter     13   kolkata\n",
       "2           2  spiderman     14  varanasi"
      ]
     },
     "execution_count": 19,
     "metadata": {},
     "output_type": "execute_result"
    }
   ],
   "source": [
    "ali"
   ]
  },
  {
   "cell_type": "code",
   "execution_count": 20,
   "id": "4bffbc94",
   "metadata": {},
   "outputs": [],
   "source": [
    "ali.to_csv('ali.csv')"
   ]
  },
  {
   "cell_type": "markdown",
   "id": "0d052338",
   "metadata": {},
   "source": [
    "# changing index"
   ]
  },
  {
   "cell_type": "code",
   "execution_count": 21,
   "id": "d294a6e8",
   "metadata": {},
   "outputs": [],
   "source": [
    "ali.index = ['one','two','three']\n"
   ]
  },
  {
   "cell_type": "code",
   "execution_count": 22,
   "id": "986b5604",
   "metadata": {},
   "outputs": [
    {
     "data": {
      "text/html": [
       "<div>\n",
       "<style scoped>\n",
       "    .dataframe tbody tr th:only-of-type {\n",
       "        vertical-align: middle;\n",
       "    }\n",
       "\n",
       "    .dataframe tbody tr th {\n",
       "        vertical-align: top;\n",
       "    }\n",
       "\n",
       "    .dataframe thead th {\n",
       "        text-align: right;\n",
       "    }\n",
       "</style>\n",
       "<table border=\"1\" class=\"dataframe\">\n",
       "  <thead>\n",
       "    <tr style=\"text-align: right;\">\n",
       "      <th></th>\n",
       "      <th>Unnamed: 0</th>\n",
       "      <th>name</th>\n",
       "      <th>marks</th>\n",
       "      <th>city</th>\n",
       "    </tr>\n",
       "  </thead>\n",
       "  <tbody>\n",
       "    <tr>\n",
       "      <th>one</th>\n",
       "      <td>0</td>\n",
       "      <td>harry</td>\n",
       "      <td>11</td>\n",
       "      <td>rampur</td>\n",
       "    </tr>\n",
       "    <tr>\n",
       "      <th>two</th>\n",
       "      <td>1</td>\n",
       "      <td>potter</td>\n",
       "      <td>13</td>\n",
       "      <td>kolkata</td>\n",
       "    </tr>\n",
       "    <tr>\n",
       "      <th>three</th>\n",
       "      <td>2</td>\n",
       "      <td>spiderman</td>\n",
       "      <td>14</td>\n",
       "      <td>varanasi</td>\n",
       "    </tr>\n",
       "  </tbody>\n",
       "</table>\n",
       "</div>"
      ],
      "text/plain": [
       "       Unnamed: 0       name  marks      city\n",
       "one             0      harry     11    rampur\n",
       "two             1     potter     13   kolkata\n",
       "three           2  spiderman     14  varanasi"
      ]
     },
     "execution_count": 22,
     "metadata": {},
     "output_type": "execute_result"
    }
   ],
   "source": [
    "ali"
   ]
  },
  {
   "cell_type": "code",
   "execution_count": 23,
   "id": "cc899815",
   "metadata": {},
   "outputs": [
    {
     "name": "stdout",
     "output_type": "stream",
     "text": [
      "2014\n",
      "    Team_  Rank_  Year_  Point_\n",
      "0      MI      1   2014     876\n",
      "2  Devils      2   2014     863\n",
      "4     CSK      3   2014     741\n",
      "9     KKR      4   2014     701\n",
      "2015\n",
      "   Team_  Rank_  Year_  Point_\n",
      "1    CSK      2   2015     789\n",
      "3     MI      3   2015     673\n",
      "5    RCB      4   2015     812\n",
      "10   KKR      1   2015     804\n",
      "2016\n",
      "  Team_  Rank_  Year_  Point_\n",
      "6   CSK      1   2016     756\n",
      "8   KKR      2   2016     694\n",
      "2017\n",
      "   Team_  Rank_  Year_  Point_\n",
      "7    CSK      1   2017     788\n",
      "11   RCB      2   2017     690\n"
     ]
    }
   ],
   "source": [
    "import pandas as pd\n",
    "points_table = {'Team_':['MI', 'CSK', 'Devils', 'MI', 'CSK',\n",
    "   'RCB', 'CSK', 'CSK', 'KKR', 'KKR', 'KKR', 'RCB'],\n",
    "   'Rank_' :[1, 2, 2, 3, 3,4 ,1 ,1,2 , 4,1,2],\n",
    "   'Year_' :[2014,2015,2014,2015,2014,2015,2016,2017,2016,2014,2015,2017],\n",
    "   'Point_':[876,789,863,673,741,812,756,788,694,701,804,690]}\n",
    "df = pd.DataFrame(points_table)\n",
    "\n",
    "groupby_= df.groupby('Year_')\n",
    "for team,group in groupby_:\n",
    "   print(team)\n",
    "   print(group)"
   ]
  },
  {
   "cell_type": "code",
   "execution_count": 24,
   "id": "5ae6083d",
   "metadata": {},
   "outputs": [
    {
     "name": "stdout",
     "output_type": "stream",
     "text": [
      "    Team_  Rank_  Year_  Point_\n",
      "0      MI      1   2014     876\n",
      "2  Devils      2   2014     863\n",
      "4     CSK      3   2014     741\n",
      "9     KKR      4   2014     701\n"
     ]
    }
   ],
   "source": [
    "print (groupby_.get_group(2014))\n"
   ]
  },
  {
   "cell_type": "code",
   "execution_count": 25,
   "id": "f011192f",
   "metadata": {},
   "outputs": [
    {
     "data": {
      "text/html": [
       "<div>\n",
       "<style scoped>\n",
       "    .dataframe tbody tr th:only-of-type {\n",
       "        vertical-align: middle;\n",
       "    }\n",
       "\n",
       "    .dataframe tbody tr th {\n",
       "        vertical-align: top;\n",
       "    }\n",
       "\n",
       "    .dataframe thead th {\n",
       "        text-align: right;\n",
       "    }\n",
       "</style>\n",
       "<table border=\"1\" class=\"dataframe\">\n",
       "  <thead>\n",
       "    <tr style=\"text-align: right;\">\n",
       "      <th></th>\n",
       "      <th>Rank_</th>\n",
       "      <th>Year_</th>\n",
       "      <th>Point_</th>\n",
       "    </tr>\n",
       "  </thead>\n",
       "  <tbody>\n",
       "    <tr>\n",
       "      <th>mean</th>\n",
       "      <td>2.500000</td>\n",
       "      <td>2014.0</td>\n",
       "      <td>795.250000</td>\n",
       "    </tr>\n",
       "    <tr>\n",
       "      <th>median</th>\n",
       "      <td>2.500000</td>\n",
       "      <td>2014.0</td>\n",
       "      <td>802.000000</td>\n",
       "    </tr>\n",
       "    <tr>\n",
       "      <th>std</th>\n",
       "      <td>1.290994</td>\n",
       "      <td>0.0</td>\n",
       "      <td>87.439026</td>\n",
       "    </tr>\n",
       "    <tr>\n",
       "      <th>var</th>\n",
       "      <td>1.666667</td>\n",
       "      <td>0.0</td>\n",
       "      <td>7645.583333</td>\n",
       "    </tr>\n",
       "  </tbody>\n",
       "</table>\n",
       "</div>"
      ],
      "text/plain": [
       "           Rank_   Year_       Point_\n",
       "mean    2.500000  2014.0   795.250000\n",
       "median  2.500000  2014.0   802.000000\n",
       "std     1.290994     0.0    87.439026\n",
       "var     1.666667     0.0  7645.583333"
      ]
     },
     "execution_count": 25,
     "metadata": {},
     "output_type": "execute_result"
    }
   ],
   "source": [
    "import numpy as np\n",
    "groupby_.get_group(2014).agg([np.mean,np.median,np.std,np.var ])\n"
   ]
  },
  {
   "cell_type": "code",
   "execution_count": 26,
   "id": "67b0826d",
   "metadata": {},
   "outputs": [
    {
     "name": "stdout",
     "output_type": "stream",
     "text": [
      "Maximum value :  876\n",
      "Minimum value :  673\n"
     ]
    }
   ],
   "source": [
    "print(\"Maximum value : \",df.Point_.max())\n",
    "print(\"Minimum value : \",df.Point_.min())"
   ]
  },
  {
   "cell_type": "code",
   "execution_count": 27,
   "id": "d6305bd6",
   "metadata": {},
   "outputs": [
    {
     "data": {
      "text/plain": [
       "Team_     12\n",
       "Rank_     12\n",
       "Year_     12\n",
       "Point_    12\n",
       "dtype: int64"
      ]
     },
     "execution_count": 27,
     "metadata": {},
     "output_type": "execute_result"
    }
   ],
   "source": [
    "df.count()"
   ]
  },
  {
   "cell_type": "code",
   "execution_count": 28,
   "id": "163a08d2",
   "metadata": {},
   "outputs": [
    {
     "ename": "AttributeError",
     "evalue": "module 'pandas' has no attribute 'count'",
     "output_type": "error",
     "traceback": [
      "\u001b[1;31m---------------------------------------------------------------------------\u001b[0m",
      "\u001b[1;31mAttributeError\u001b[0m                            Traceback (most recent call last)",
      "Input \u001b[1;32mIn [28]\u001b[0m, in \u001b[0;36m<module>\u001b[1;34m\u001b[0m\n\u001b[1;32m----> 1\u001b[0m \u001b[43mpd\u001b[49m\u001b[38;5;241;43m.\u001b[39;49m\u001b[43mcount\u001b[49m\n",
      "File \u001b[1;32m~\\AppData\\Local\\Programs\\Python\\Python310\\lib\\site-packages\\pandas\\__init__.py:244\u001b[0m, in \u001b[0;36m__getattr__\u001b[1;34m(name)\u001b[0m\n\u001b[0;32m    240\u001b[0m     \u001b[38;5;28;01mfrom\u001b[39;00m \u001b[38;5;21;01mpandas\u001b[39;00m\u001b[38;5;21;01m.\u001b[39;00m\u001b[38;5;21;01mcore\u001b[39;00m\u001b[38;5;21;01m.\u001b[39;00m\u001b[38;5;21;01marrays\u001b[39;00m\u001b[38;5;21;01m.\u001b[39;00m\u001b[38;5;21;01msparse\u001b[39;00m \u001b[38;5;28;01mimport\u001b[39;00m SparseArray \u001b[38;5;28;01mas\u001b[39;00m _SparseArray\n\u001b[0;32m    242\u001b[0m     \u001b[38;5;28;01mreturn\u001b[39;00m _SparseArray\n\u001b[1;32m--> 244\u001b[0m \u001b[38;5;28;01mraise\u001b[39;00m \u001b[38;5;167;01mAttributeError\u001b[39;00m(\u001b[38;5;124mf\u001b[39m\u001b[38;5;124m\"\u001b[39m\u001b[38;5;124mmodule \u001b[39m\u001b[38;5;124m'\u001b[39m\u001b[38;5;124mpandas\u001b[39m\u001b[38;5;124m'\u001b[39m\u001b[38;5;124m has no attribute \u001b[39m\u001b[38;5;124m'\u001b[39m\u001b[38;5;132;01m{\u001b[39;00mname\u001b[38;5;132;01m}\u001b[39;00m\u001b[38;5;124m'\u001b[39m\u001b[38;5;124m\"\u001b[39m)\n",
      "\u001b[1;31mAttributeError\u001b[0m: module 'pandas' has no attribute 'count'"
     ]
    }
   ],
   "source": [
    "pd.count"
   ]
  },
  {
   "cell_type": "code",
   "execution_count": 29,
   "id": "614dc4cb",
   "metadata": {},
   "outputs": [
    {
     "data": {
      "text/plain": [
       "CSK       4\n",
       "KKR       3\n",
       "MI        2\n",
       "RCB       2\n",
       "Devils    1\n",
       "Name: Team_, dtype: int64"
      ]
     },
     "execution_count": 29,
     "metadata": {},
     "output_type": "execute_result"
    }
   ],
   "source": [
    "df.Team_.value_counts()"
   ]
  },
  {
   "cell_type": "code",
   "execution_count": 30,
   "id": "43211d90",
   "metadata": {},
   "outputs": [
    {
     "data": {
      "text/html": [
       "<div>\n",
       "<style scoped>\n",
       "    .dataframe tbody tr th:only-of-type {\n",
       "        vertical-align: middle;\n",
       "    }\n",
       "\n",
       "    .dataframe tbody tr th {\n",
       "        vertical-align: top;\n",
       "    }\n",
       "\n",
       "    .dataframe thead th {\n",
       "        text-align: right;\n",
       "    }\n",
       "</style>\n",
       "<table border=\"1\" class=\"dataframe\">\n",
       "  <thead>\n",
       "    <tr style=\"text-align: right;\">\n",
       "      <th></th>\n",
       "      <th>Rank_</th>\n",
       "      <th>Year_</th>\n",
       "      <th>Point_</th>\n",
       "    </tr>\n",
       "  </thead>\n",
       "  <tbody>\n",
       "    <tr>\n",
       "      <th>count</th>\n",
       "      <td>12.000000</td>\n",
       "      <td>12.000000</td>\n",
       "      <td>12.000000</td>\n",
       "    </tr>\n",
       "    <tr>\n",
       "      <th>mean</th>\n",
       "      <td>2.166667</td>\n",
       "      <td>2015.166667</td>\n",
       "      <td>765.583333</td>\n",
       "    </tr>\n",
       "    <tr>\n",
       "      <th>std</th>\n",
       "      <td>1.114641</td>\n",
       "      <td>1.114641</td>\n",
       "      <td>67.849376</td>\n",
       "    </tr>\n",
       "    <tr>\n",
       "      <th>min</th>\n",
       "      <td>1.000000</td>\n",
       "      <td>2014.000000</td>\n",
       "      <td>673.000000</td>\n",
       "    </tr>\n",
       "    <tr>\n",
       "      <th>25%</th>\n",
       "      <td>1.000000</td>\n",
       "      <td>2014.000000</td>\n",
       "      <td>699.250000</td>\n",
       "    </tr>\n",
       "    <tr>\n",
       "      <th>50%</th>\n",
       "      <td>2.000000</td>\n",
       "      <td>2015.000000</td>\n",
       "      <td>772.000000</td>\n",
       "    </tr>\n",
       "    <tr>\n",
       "      <th>75%</th>\n",
       "      <td>3.000000</td>\n",
       "      <td>2016.000000</td>\n",
       "      <td>806.000000</td>\n",
       "    </tr>\n",
       "    <tr>\n",
       "      <th>max</th>\n",
       "      <td>4.000000</td>\n",
       "      <td>2017.000000</td>\n",
       "      <td>876.000000</td>\n",
       "    </tr>\n",
       "  </tbody>\n",
       "</table>\n",
       "</div>"
      ],
      "text/plain": [
       "           Rank_        Year_      Point_\n",
       "count  12.000000    12.000000   12.000000\n",
       "mean    2.166667  2015.166667  765.583333\n",
       "std     1.114641     1.114641   67.849376\n",
       "min     1.000000  2014.000000  673.000000\n",
       "25%     1.000000  2014.000000  699.250000\n",
       "50%     2.000000  2015.000000  772.000000\n",
       "75%     3.000000  2016.000000  806.000000\n",
       "max     4.000000  2017.000000  876.000000"
      ]
     },
     "execution_count": 30,
     "metadata": {},
     "output_type": "execute_result"
    }
   ],
   "source": [
    "df.describe()"
   ]
  },
  {
   "cell_type": "markdown",
   "id": "29e3ca48",
   "metadata": {},
   "source": [
    "# Visualizations using Pandas Dataframe "
   ]
  },
  {
   "cell_type": "code",
   "execution_count": 32,
   "id": "d56545a5",
   "metadata": {},
   "outputs": [
    {
     "ename": "SyntaxError",
     "evalue": "invalid character '‘' (U+2018) (Temp/ipykernel_18324/3753507708.py, line 3)",
     "output_type": "error",
     "traceback": [
      "\u001b[1;36m  Input \u001b[1;32mIn [32]\u001b[1;36m\u001b[0m\n\u001b[1;33m    'col3':[‘abc’,’def’,’ghi’,’xyz’]})\u001b[0m\n\u001b[1;37m            ^\u001b[0m\n\u001b[1;31mSyntaxError\u001b[0m\u001b[1;31m:\u001b[0m invalid character '‘' (U+2018)\n"
     ]
    }
   ],
   "source": [
    "df = pd.DataFrame({'col1':[1,2,3,4],\n",
    "'col2':[444,555,666,444],\n",
    "'col3':[‘abc’,’def’,’ghi’,’xyz’]})\n",
    "df.head()\n"
   ]
  },
  {
   "cell_type": "code",
   "execution_count": 34,
   "id": "39ca4ece",
   "metadata": {},
   "outputs": [
    {
     "data": {
      "text/html": [
       "<div>\n",
       "<style scoped>\n",
       "    .dataframe tbody tr th:only-of-type {\n",
       "        vertical-align: middle;\n",
       "    }\n",
       "\n",
       "    .dataframe tbody tr th {\n",
       "        vertical-align: top;\n",
       "    }\n",
       "\n",
       "    .dataframe thead th {\n",
       "        text-align: right;\n",
       "    }\n",
       "</style>\n",
       "<table border=\"1\" class=\"dataframe\">\n",
       "  <thead>\n",
       "    <tr style=\"text-align: right;\">\n",
       "      <th></th>\n",
       "      <th>col1</th>\n",
       "      <th>col2</th>\n",
       "      <th>col3</th>\n",
       "    </tr>\n",
       "  </thead>\n",
       "  <tbody>\n",
       "    <tr>\n",
       "      <th>0</th>\n",
       "      <td>1</td>\n",
       "      <td>444</td>\n",
       "      <td>abc</td>\n",
       "    </tr>\n",
       "    <tr>\n",
       "      <th>1</th>\n",
       "      <td>2</td>\n",
       "      <td>555</td>\n",
       "      <td>def</td>\n",
       "    </tr>\n",
       "    <tr>\n",
       "      <th>2</th>\n",
       "      <td>3</td>\n",
       "      <td>666</td>\n",
       "      <td>ghi</td>\n",
       "    </tr>\n",
       "    <tr>\n",
       "      <th>3</th>\n",
       "      <td>4</td>\n",
       "      <td>444</td>\n",
       "      <td>xyz</td>\n",
       "    </tr>\n",
       "  </tbody>\n",
       "</table>\n",
       "</div>"
      ],
      "text/plain": [
       "   col1  col2 col3\n",
       "0     1   444  abc\n",
       "1     2   555  def\n",
       "2     3   666  ghi\n",
       "3     4   444  xyz"
      ]
     },
     "execution_count": 34,
     "metadata": {},
     "output_type": "execute_result"
    }
   ],
   "source": [
    "df = pd.DataFrame({'col1':[1,2,3,4],\n",
    "'col2':[444,555,666,444],\n",
    "'col3':['abc','def','ghi','xyz']})\n",
    "df.head()"
   ]
  },
  {
   "cell_type": "markdown",
   "id": "7253ef01",
   "metadata": {},
   "source": [
    "# Finding Unique Values:"
   ]
  },
  {
   "cell_type": "code",
   "execution_count": 35,
   "id": "c887d557",
   "metadata": {},
   "outputs": [
    {
     "data": {
      "text/plain": [
       "array([444, 555, 666], dtype=int64)"
      ]
     },
     "execution_count": 35,
     "metadata": {},
     "output_type": "execute_result"
    }
   ],
   "source": [
    "df['col2'].unique()"
   ]
  },
  {
   "cell_type": "code",
   "execution_count": 36,
   "id": "ff8b44e4",
   "metadata": {},
   "outputs": [
    {
     "data": {
      "text/plain": [
       "3"
      ]
     },
     "execution_count": 36,
     "metadata": {},
     "output_type": "execute_result"
    }
   ],
   "source": [
    "len(df['col2'].unique())"
   ]
  },
  {
   "cell_type": "code",
   "execution_count": 37,
   "id": "d1864ade",
   "metadata": {},
   "outputs": [
    {
     "data": {
      "text/plain": [
       "3"
      ]
     },
     "execution_count": 37,
     "metadata": {},
     "output_type": "execute_result"
    }
   ],
   "source": [
    "df['col2'].nunique()"
   ]
  },
  {
   "cell_type": "markdown",
   "id": "b0e84a61",
   "metadata": {},
   "source": [
    "# Conditional Selections"
   ]
  },
  {
   "cell_type": "code",
   "execution_count": 38,
   "id": "a8d29f6f",
   "metadata": {},
   "outputs": [
    {
     "data": {
      "text/html": [
       "<div>\n",
       "<style scoped>\n",
       "    .dataframe tbody tr th:only-of-type {\n",
       "        vertical-align: middle;\n",
       "    }\n",
       "\n",
       "    .dataframe tbody tr th {\n",
       "        vertical-align: top;\n",
       "    }\n",
       "\n",
       "    .dataframe thead th {\n",
       "        text-align: right;\n",
       "    }\n",
       "</style>\n",
       "<table border=\"1\" class=\"dataframe\">\n",
       "  <thead>\n",
       "    <tr style=\"text-align: right;\">\n",
       "      <th></th>\n",
       "      <th>col1</th>\n",
       "      <th>col2</th>\n",
       "      <th>col3</th>\n",
       "    </tr>\n",
       "  </thead>\n",
       "  <tbody>\n",
       "    <tr>\n",
       "      <th>2</th>\n",
       "      <td>3</td>\n",
       "      <td>666</td>\n",
       "      <td>ghi</td>\n",
       "    </tr>\n",
       "    <tr>\n",
       "      <th>3</th>\n",
       "      <td>4</td>\n",
       "      <td>444</td>\n",
       "      <td>xyz</td>\n",
       "    </tr>\n",
       "  </tbody>\n",
       "</table>\n",
       "</div>"
      ],
      "text/plain": [
       "   col1  col2 col3\n",
       "2     3   666  ghi\n",
       "3     4   444  xyz"
      ]
     },
     "execution_count": 38,
     "metadata": {},
     "output_type": "execute_result"
    }
   ],
   "source": [
    "df[df['col1']>2]\n"
   ]
  },
  {
   "cell_type": "code",
   "execution_count": 39,
   "id": "a7fe9589",
   "metadata": {},
   "outputs": [
    {
     "data": {
      "text/html": [
       "<div>\n",
       "<style scoped>\n",
       "    .dataframe tbody tr th:only-of-type {\n",
       "        vertical-align: middle;\n",
       "    }\n",
       "\n",
       "    .dataframe tbody tr th {\n",
       "        vertical-align: top;\n",
       "    }\n",
       "\n",
       "    .dataframe thead th {\n",
       "        text-align: right;\n",
       "    }\n",
       "</style>\n",
       "<table border=\"1\" class=\"dataframe\">\n",
       "  <thead>\n",
       "    <tr style=\"text-align: right;\">\n",
       "      <th></th>\n",
       "      <th>col1</th>\n",
       "      <th>col2</th>\n",
       "      <th>col3</th>\n",
       "    </tr>\n",
       "  </thead>\n",
       "  <tbody>\n",
       "    <tr>\n",
       "      <th>3</th>\n",
       "      <td>4</td>\n",
       "      <td>444</td>\n",
       "      <td>xyz</td>\n",
       "    </tr>\n",
       "  </tbody>\n",
       "</table>\n",
       "</div>"
      ],
      "text/plain": [
       "   col1  col2 col3\n",
       "3     4   444  xyz"
      ]
     },
     "execution_count": 39,
     "metadata": {},
     "output_type": "execute_result"
    }
   ],
   "source": [
    "df[(df['col1']>2) & (df['col2']==444)]"
   ]
  },
  {
   "cell_type": "markdown",
   "id": "ab0675b2",
   "metadata": {},
   "source": [
    "# Apply Method"
   ]
  },
  {
   "cell_type": "code",
   "execution_count": 40,
   "id": "bf6ebace",
   "metadata": {},
   "outputs": [
    {
     "ename": "SyntaxError",
     "evalue": "unterminated string literal (detected at line 1) (Temp/ipykernel_18324/2652293411.py, line 1)",
     "output_type": "error",
     "traceback": [
      "\u001b[1;36m  Input \u001b[1;32mIn [40]\u001b[1;36m\u001b[0m\n\u001b[1;33m    df['col2].sum()\u001b[0m\n\u001b[1;37m       ^\u001b[0m\n\u001b[1;31mSyntaxError\u001b[0m\u001b[1;31m:\u001b[0m unterminated string literal (detected at line 1)\n"
     ]
    }
   ],
   "source": [
    "df['col2].sum()"
   ]
  },
  {
   "cell_type": "code",
   "execution_count": 41,
   "id": "53fc42be",
   "metadata": {},
   "outputs": [
    {
     "data": {
      "text/plain": [
       "2109"
      ]
     },
     "execution_count": 41,
     "metadata": {},
     "output_type": "execute_result"
    }
   ],
   "source": [
    "df['col2'].sum()"
   ]
  },
  {
   "cell_type": "code",
   "execution_count": 42,
   "id": "239a1256",
   "metadata": {},
   "outputs": [],
   "source": [
    "def times2(x):\n",
    "    return x*2"
   ]
  },
  {
   "cell_type": "code",
   "execution_count": 43,
   "id": "1c8da840",
   "metadata": {},
   "outputs": [
    {
     "data": {
      "text/plain": [
       "0     888\n",
       "1    1110\n",
       "2    1332\n",
       "3     888\n",
       "Name: col2, dtype: int64"
      ]
     },
     "execution_count": 43,
     "metadata": {},
     "output_type": "execute_result"
    }
   ],
   "source": [
    "df['col2'].apply(times2)"
   ]
  },
  {
   "cell_type": "markdown",
   "id": "8ee1b98a",
   "metadata": {},
   "source": [
    "# lambda expression:"
   ]
  },
  {
   "cell_type": "markdown",
   "id": "2eb32253",
   "metadata": {},
   "source": [
    "# Removing Columns"
   ]
  },
  {
   "cell_type": "code",
   "execution_count": 44,
   "id": "3b32aec2",
   "metadata": {},
   "outputs": [
    {
     "data": {
      "text/html": [
       "<div>\n",
       "<style scoped>\n",
       "    .dataframe tbody tr th:only-of-type {\n",
       "        vertical-align: middle;\n",
       "    }\n",
       "\n",
       "    .dataframe tbody tr th {\n",
       "        vertical-align: top;\n",
       "    }\n",
       "\n",
       "    .dataframe thead th {\n",
       "        text-align: right;\n",
       "    }\n",
       "</style>\n",
       "<table border=\"1\" class=\"dataframe\">\n",
       "  <thead>\n",
       "    <tr style=\"text-align: right;\">\n",
       "      <th></th>\n",
       "      <th>col1</th>\n",
       "      <th>col2</th>\n",
       "      <th>col3</th>\n",
       "    </tr>\n",
       "  </thead>\n",
       "  <tbody>\n",
       "    <tr>\n",
       "      <th>0</th>\n",
       "      <td>1</td>\n",
       "      <td>444</td>\n",
       "      <td>abc</td>\n",
       "    </tr>\n",
       "    <tr>\n",
       "      <th>1</th>\n",
       "      <td>2</td>\n",
       "      <td>555</td>\n",
       "      <td>def</td>\n",
       "    </tr>\n",
       "    <tr>\n",
       "      <th>2</th>\n",
       "      <td>3</td>\n",
       "      <td>666</td>\n",
       "      <td>ghi</td>\n",
       "    </tr>\n",
       "    <tr>\n",
       "      <th>3</th>\n",
       "      <td>4</td>\n",
       "      <td>444</td>\n",
       "      <td>xyz</td>\n",
       "    </tr>\n",
       "  </tbody>\n",
       "</table>\n",
       "</div>"
      ],
      "text/plain": [
       "   col1  col2 col3\n",
       "0     1   444  abc\n",
       "1     2   555  def\n",
       "2     3   666  ghi\n",
       "3     4   444  xyz"
      ]
     },
     "execution_count": 44,
     "metadata": {},
     "output_type": "execute_result"
    }
   ],
   "source": [
    "df"
   ]
  },
  {
   "cell_type": "code",
   "execution_count": 45,
   "id": "63582aa0",
   "metadata": {},
   "outputs": [
    {
     "data": {
      "text/html": [
       "<div>\n",
       "<style scoped>\n",
       "    .dataframe tbody tr th:only-of-type {\n",
       "        vertical-align: middle;\n",
       "    }\n",
       "\n",
       "    .dataframe tbody tr th {\n",
       "        vertical-align: top;\n",
       "    }\n",
       "\n",
       "    .dataframe thead th {\n",
       "        text-align: right;\n",
       "    }\n",
       "</style>\n",
       "<table border=\"1\" class=\"dataframe\">\n",
       "  <thead>\n",
       "    <tr style=\"text-align: right;\">\n",
       "      <th></th>\n",
       "      <th>col2</th>\n",
       "      <th>col3</th>\n",
       "    </tr>\n",
       "  </thead>\n",
       "  <tbody>\n",
       "    <tr>\n",
       "      <th>0</th>\n",
       "      <td>444</td>\n",
       "      <td>abc</td>\n",
       "    </tr>\n",
       "    <tr>\n",
       "      <th>1</th>\n",
       "      <td>555</td>\n",
       "      <td>def</td>\n",
       "    </tr>\n",
       "    <tr>\n",
       "      <th>2</th>\n",
       "      <td>666</td>\n",
       "      <td>ghi</td>\n",
       "    </tr>\n",
       "    <tr>\n",
       "      <th>3</th>\n",
       "      <td>444</td>\n",
       "      <td>xyz</td>\n",
       "    </tr>\n",
       "  </tbody>\n",
       "</table>\n",
       "</div>"
      ],
      "text/plain": [
       "   col2 col3\n",
       "0   444  abc\n",
       "1   555  def\n",
       "2   666  ghi\n",
       "3   444  xyz"
      ]
     },
     "execution_count": 45,
     "metadata": {},
     "output_type": "execute_result"
    }
   ],
   "source": [
    "df.drop('col1', axis=1)\n"
   ]
  },
  {
   "cell_type": "markdown",
   "id": "02fb9b54",
   "metadata": {},
   "source": [
    "# Returning The Columns Name & Index Attributes"
   ]
  },
  {
   "cell_type": "code",
   "execution_count": 47,
   "id": "d19b7950",
   "metadata": {},
   "outputs": [
    {
     "data": {
      "text/plain": [
       "Index(['col1', 'col2', 'col3'], dtype='object')"
      ]
     },
     "execution_count": 47,
     "metadata": {},
     "output_type": "execute_result"
    }
   ],
   "source": [
    "df.columns\n"
   ]
  },
  {
   "cell_type": "code",
   "execution_count": 48,
   "id": "8b0a5ec0",
   "metadata": {},
   "outputs": [
    {
     "data": {
      "text/plain": [
       "RangeIndex(start=0, stop=4, step=1)"
      ]
     },
     "execution_count": 48,
     "metadata": {},
     "output_type": "execute_result"
    }
   ],
   "source": [
    "df.index\n"
   ]
  },
  {
   "cell_type": "code",
   "execution_count": 49,
   "id": "2b5b9dc0",
   "metadata": {},
   "outputs": [
    {
     "data": {
      "text/plain": [
       "RangeIndex(start=0, stop=4, step=1)"
      ]
     },
     "execution_count": 49,
     "metadata": {},
     "output_type": "execute_result"
    }
   ],
   "source": [
    "df.index"
   ]
  },
  {
   "cell_type": "code",
   "execution_count": 50,
   "id": "ec2e85f5",
   "metadata": {},
   "outputs": [
    {
     "ename": "AttributeError",
     "evalue": "'DataFrame' object has no attribute 'Index'",
     "output_type": "error",
     "traceback": [
      "\u001b[1;31m---------------------------------------------------------------------------\u001b[0m",
      "\u001b[1;31mAttributeError\u001b[0m                            Traceback (most recent call last)",
      "Input \u001b[1;32mIn [50]\u001b[0m, in \u001b[0;36m<module>\u001b[1;34m\u001b[0m\n\u001b[1;32m----> 1\u001b[0m \u001b[43mdf\u001b[49m\u001b[38;5;241;43m.\u001b[39;49m\u001b[43mIndex\u001b[49m()\n",
      "File \u001b[1;32m~\\AppData\\Local\\Programs\\Python\\Python310\\lib\\site-packages\\pandas\\core\\generic.py:5487\u001b[0m, in \u001b[0;36mNDFrame.__getattr__\u001b[1;34m(self, name)\u001b[0m\n\u001b[0;32m   5480\u001b[0m \u001b[38;5;28;01mif\u001b[39;00m (\n\u001b[0;32m   5481\u001b[0m     name \u001b[38;5;129;01mnot\u001b[39;00m \u001b[38;5;129;01min\u001b[39;00m \u001b[38;5;28mself\u001b[39m\u001b[38;5;241m.\u001b[39m_internal_names_set\n\u001b[0;32m   5482\u001b[0m     \u001b[38;5;129;01mand\u001b[39;00m name \u001b[38;5;129;01mnot\u001b[39;00m \u001b[38;5;129;01min\u001b[39;00m \u001b[38;5;28mself\u001b[39m\u001b[38;5;241m.\u001b[39m_metadata\n\u001b[0;32m   5483\u001b[0m     \u001b[38;5;129;01mand\u001b[39;00m name \u001b[38;5;129;01mnot\u001b[39;00m \u001b[38;5;129;01min\u001b[39;00m \u001b[38;5;28mself\u001b[39m\u001b[38;5;241m.\u001b[39m_accessors\n\u001b[0;32m   5484\u001b[0m     \u001b[38;5;129;01mand\u001b[39;00m \u001b[38;5;28mself\u001b[39m\u001b[38;5;241m.\u001b[39m_info_axis\u001b[38;5;241m.\u001b[39m_can_hold_identifiers_and_holds_name(name)\n\u001b[0;32m   5485\u001b[0m ):\n\u001b[0;32m   5486\u001b[0m     \u001b[38;5;28;01mreturn\u001b[39;00m \u001b[38;5;28mself\u001b[39m[name]\n\u001b[1;32m-> 5487\u001b[0m \u001b[38;5;28;01mreturn\u001b[39;00m \u001b[38;5;28;43mobject\u001b[39;49m\u001b[38;5;241;43m.\u001b[39;49m\u001b[38;5;21;43m__getattribute__\u001b[39;49m\u001b[43m(\u001b[49m\u001b[38;5;28;43mself\u001b[39;49m\u001b[43m,\u001b[49m\u001b[43m \u001b[49m\u001b[43mname\u001b[49m\u001b[43m)\u001b[49m\n",
      "\u001b[1;31mAttributeError\u001b[0m: 'DataFrame' object has no attribute 'Index'"
     ]
    }
   ],
   "source": [
    "df.Index()"
   ]
  },
  {
   "cell_type": "markdown",
   "id": "7c215384",
   "metadata": {},
   "source": [
    "# Sorting & Ordering a DataFrame"
   ]
  },
  {
   "cell_type": "code",
   "execution_count": 51,
   "id": "80210147",
   "metadata": {},
   "outputs": [
    {
     "data": {
      "text/html": [
       "<div>\n",
       "<style scoped>\n",
       "    .dataframe tbody tr th:only-of-type {\n",
       "        vertical-align: middle;\n",
       "    }\n",
       "\n",
       "    .dataframe tbody tr th {\n",
       "        vertical-align: top;\n",
       "    }\n",
       "\n",
       "    .dataframe thead th {\n",
       "        text-align: right;\n",
       "    }\n",
       "</style>\n",
       "<table border=\"1\" class=\"dataframe\">\n",
       "  <thead>\n",
       "    <tr style=\"text-align: right;\">\n",
       "      <th></th>\n",
       "      <th>col1</th>\n",
       "      <th>col2</th>\n",
       "      <th>col3</th>\n",
       "    </tr>\n",
       "  </thead>\n",
       "  <tbody>\n",
       "    <tr>\n",
       "      <th>0</th>\n",
       "      <td>1</td>\n",
       "      <td>444</td>\n",
       "      <td>abc</td>\n",
       "    </tr>\n",
       "    <tr>\n",
       "      <th>1</th>\n",
       "      <td>2</td>\n",
       "      <td>555</td>\n",
       "      <td>def</td>\n",
       "    </tr>\n",
       "    <tr>\n",
       "      <th>2</th>\n",
       "      <td>3</td>\n",
       "      <td>666</td>\n",
       "      <td>ghi</td>\n",
       "    </tr>\n",
       "    <tr>\n",
       "      <th>3</th>\n",
       "      <td>4</td>\n",
       "      <td>444</td>\n",
       "      <td>xyz</td>\n",
       "    </tr>\n",
       "  </tbody>\n",
       "</table>\n",
       "</div>"
      ],
      "text/plain": [
       "   col1  col2 col3\n",
       "0     1   444  abc\n",
       "1     2   555  def\n",
       "2     3   666  ghi\n",
       "3     4   444  xyz"
      ]
     },
     "execution_count": 51,
     "metadata": {},
     "output_type": "execute_result"
    }
   ],
   "source": [
    "df"
   ]
  },
  {
   "cell_type": "code",
   "execution_count": 52,
   "id": "c348b753",
   "metadata": {},
   "outputs": [
    {
     "data": {
      "text/html": [
       "<div>\n",
       "<style scoped>\n",
       "    .dataframe tbody tr th:only-of-type {\n",
       "        vertical-align: middle;\n",
       "    }\n",
       "\n",
       "    .dataframe tbody tr th {\n",
       "        vertical-align: top;\n",
       "    }\n",
       "\n",
       "    .dataframe thead th {\n",
       "        text-align: right;\n",
       "    }\n",
       "</style>\n",
       "<table border=\"1\" class=\"dataframe\">\n",
       "  <thead>\n",
       "    <tr style=\"text-align: right;\">\n",
       "      <th></th>\n",
       "      <th>col1</th>\n",
       "      <th>col2</th>\n",
       "      <th>col3</th>\n",
       "    </tr>\n",
       "  </thead>\n",
       "  <tbody>\n",
       "    <tr>\n",
       "      <th>0</th>\n",
       "      <td>1</td>\n",
       "      <td>444</td>\n",
       "      <td>abc</td>\n",
       "    </tr>\n",
       "    <tr>\n",
       "      <th>3</th>\n",
       "      <td>4</td>\n",
       "      <td>444</td>\n",
       "      <td>xyz</td>\n",
       "    </tr>\n",
       "    <tr>\n",
       "      <th>1</th>\n",
       "      <td>2</td>\n",
       "      <td>555</td>\n",
       "      <td>def</td>\n",
       "    </tr>\n",
       "    <tr>\n",
       "      <th>2</th>\n",
       "      <td>3</td>\n",
       "      <td>666</td>\n",
       "      <td>ghi</td>\n",
       "    </tr>\n",
       "  </tbody>\n",
       "</table>\n",
       "</div>"
      ],
      "text/plain": [
       "   col1  col2 col3\n",
       "0     1   444  abc\n",
       "3     4   444  xyz\n",
       "1     2   555  def\n",
       "2     3   666  ghi"
      ]
     },
     "execution_count": 52,
     "metadata": {},
     "output_type": "execute_result"
    }
   ],
   "source": [
    "df.sort_values('col2')"
   ]
  },
  {
   "cell_type": "code",
   "execution_count": 53,
   "id": "cb9fa154",
   "metadata": {},
   "outputs": [
    {
     "data": {
      "text/html": [
       "<div>\n",
       "<style scoped>\n",
       "    .dataframe tbody tr th:only-of-type {\n",
       "        vertical-align: middle;\n",
       "    }\n",
       "\n",
       "    .dataframe tbody tr th {\n",
       "        vertical-align: top;\n",
       "    }\n",
       "\n",
       "    .dataframe thead th {\n",
       "        text-align: right;\n",
       "    }\n",
       "</style>\n",
       "<table border=\"1\" class=\"dataframe\">\n",
       "  <thead>\n",
       "    <tr style=\"text-align: right;\">\n",
       "      <th></th>\n",
       "      <th>col1</th>\n",
       "      <th>col2</th>\n",
       "      <th>col3</th>\n",
       "    </tr>\n",
       "  </thead>\n",
       "  <tbody>\n",
       "    <tr>\n",
       "      <th>0</th>\n",
       "      <td>1</td>\n",
       "      <td>444</td>\n",
       "      <td>abc</td>\n",
       "    </tr>\n",
       "    <tr>\n",
       "      <th>3</th>\n",
       "      <td>4</td>\n",
       "      <td>444</td>\n",
       "      <td>xyz</td>\n",
       "    </tr>\n",
       "    <tr>\n",
       "      <th>1</th>\n",
       "      <td>2</td>\n",
       "      <td>555</td>\n",
       "      <td>def</td>\n",
       "    </tr>\n",
       "    <tr>\n",
       "      <th>2</th>\n",
       "      <td>3</td>\n",
       "      <td>666</td>\n",
       "      <td>ghi</td>\n",
       "    </tr>\n",
       "  </tbody>\n",
       "</table>\n",
       "</div>"
      ],
      "text/plain": [
       "   col1  col2 col3\n",
       "0     1   444  abc\n",
       "3     4   444  xyz\n",
       "1     2   555  def\n",
       "2     3   666  ghi"
      ]
     },
     "execution_count": 53,
     "metadata": {},
     "output_type": "execute_result"
    }
   ],
   "source": [
    "df.sort_values(by='col2')"
   ]
  },
  {
   "cell_type": "markdown",
   "id": "a4f2e264",
   "metadata": {},
   "source": [
    "# Booleans"
   ]
  },
  {
   "cell_type": "code",
   "execution_count": 54,
   "id": "158a7454",
   "metadata": {},
   "outputs": [
    {
     "data": {
      "text/html": [
       "<div>\n",
       "<style scoped>\n",
       "    .dataframe tbody tr th:only-of-type {\n",
       "        vertical-align: middle;\n",
       "    }\n",
       "\n",
       "    .dataframe tbody tr th {\n",
       "        vertical-align: top;\n",
       "    }\n",
       "\n",
       "    .dataframe thead th {\n",
       "        text-align: right;\n",
       "    }\n",
       "</style>\n",
       "<table border=\"1\" class=\"dataframe\">\n",
       "  <thead>\n",
       "    <tr style=\"text-align: right;\">\n",
       "      <th></th>\n",
       "      <th>col1</th>\n",
       "      <th>col2</th>\n",
       "      <th>col3</th>\n",
       "    </tr>\n",
       "  </thead>\n",
       "  <tbody>\n",
       "    <tr>\n",
       "      <th>0</th>\n",
       "      <td>False</td>\n",
       "      <td>False</td>\n",
       "      <td>False</td>\n",
       "    </tr>\n",
       "    <tr>\n",
       "      <th>1</th>\n",
       "      <td>False</td>\n",
       "      <td>False</td>\n",
       "      <td>False</td>\n",
       "    </tr>\n",
       "    <tr>\n",
       "      <th>2</th>\n",
       "      <td>False</td>\n",
       "      <td>False</td>\n",
       "      <td>False</td>\n",
       "    </tr>\n",
       "    <tr>\n",
       "      <th>3</th>\n",
       "      <td>False</td>\n",
       "      <td>False</td>\n",
       "      <td>False</td>\n",
       "    </tr>\n",
       "  </tbody>\n",
       "</table>\n",
       "</div>"
      ],
      "text/plain": [
       "    col1   col2   col3\n",
       "0  False  False  False\n",
       "1  False  False  False\n",
       "2  False  False  False\n",
       "3  False  False  False"
      ]
     },
     "execution_count": 54,
     "metadata": {},
     "output_type": "execute_result"
    }
   ],
   "source": [
    "df.isnull()"
   ]
  },
  {
   "cell_type": "markdown",
   "id": "4b828a17",
   "metadata": {},
   "source": [
    "# Pivot Tables\n"
   ]
  },
  {
   "cell_type": "code",
   "execution_count": 55,
   "id": "0778e560",
   "metadata": {},
   "outputs": [
    {
     "data": {
      "text/html": [
       "<div>\n",
       "<style scoped>\n",
       "    .dataframe tbody tr th:only-of-type {\n",
       "        vertical-align: middle;\n",
       "    }\n",
       "\n",
       "    .dataframe tbody tr th {\n",
       "        vertical-align: top;\n",
       "    }\n",
       "\n",
       "    .dataframe thead th {\n",
       "        text-align: right;\n",
       "    }\n",
       "</style>\n",
       "<table border=\"1\" class=\"dataframe\">\n",
       "  <thead>\n",
       "    <tr style=\"text-align: right;\">\n",
       "      <th></th>\n",
       "      <th>A</th>\n",
       "      <th>B</th>\n",
       "      <th>C</th>\n",
       "      <th>D</th>\n",
       "    </tr>\n",
       "  </thead>\n",
       "  <tbody>\n",
       "    <tr>\n",
       "      <th>0</th>\n",
       "      <td>foo</td>\n",
       "      <td>one</td>\n",
       "      <td>x</td>\n",
       "      <td>1</td>\n",
       "    </tr>\n",
       "    <tr>\n",
       "      <th>1</th>\n",
       "      <td>foo</td>\n",
       "      <td>one</td>\n",
       "      <td>y</td>\n",
       "      <td>3</td>\n",
       "    </tr>\n",
       "    <tr>\n",
       "      <th>2</th>\n",
       "      <td>foo</td>\n",
       "      <td>two</td>\n",
       "      <td>x</td>\n",
       "      <td>2</td>\n",
       "    </tr>\n",
       "    <tr>\n",
       "      <th>3</th>\n",
       "      <td>bar</td>\n",
       "      <td>two</td>\n",
       "      <td>y</td>\n",
       "      <td>5</td>\n",
       "    </tr>\n",
       "    <tr>\n",
       "      <th>4</th>\n",
       "      <td>bar</td>\n",
       "      <td>one</td>\n",
       "      <td>x</td>\n",
       "      <td>4</td>\n",
       "    </tr>\n",
       "    <tr>\n",
       "      <th>5</th>\n",
       "      <td>bar</td>\n",
       "      <td>one</td>\n",
       "      <td>y</td>\n",
       "      <td>1</td>\n",
       "    </tr>\n",
       "  </tbody>\n",
       "</table>\n",
       "</div>"
      ],
      "text/plain": [
       "     A    B  C  D\n",
       "0  foo  one  x  1\n",
       "1  foo  one  y  3\n",
       "2  foo  two  x  2\n",
       "3  bar  two  y  5\n",
       "4  bar  one  x  4\n",
       "5  bar  one  y  1"
      ]
     },
     "execution_count": 55,
     "metadata": {},
     "output_type": "execute_result"
    }
   ],
   "source": [
    "data=pd.DataFrame({'A':['foo','foo','foo','bar','bar','bar'],\n",
    "'B':['one','one','two','two','one', 'one'],\n",
    "'C':['x','y','x','y','x','y'],\n",
    "'D':[1,3,2,5,4,1]})\n",
    "#data\n",
    "df=pd.DataFrame(data)\n",
    "df\n"
   ]
  },
  {
   "cell_type": "code",
   "execution_count": 56,
   "id": "783c9fcc",
   "metadata": {},
   "outputs": [
    {
     "data": {
      "text/html": [
       "<div>\n",
       "<style scoped>\n",
       "    .dataframe tbody tr th:only-of-type {\n",
       "        vertical-align: middle;\n",
       "    }\n",
       "\n",
       "    .dataframe tbody tr th {\n",
       "        vertical-align: top;\n",
       "    }\n",
       "\n",
       "    .dataframe thead th {\n",
       "        text-align: right;\n",
       "    }\n",
       "</style>\n",
       "<table border=\"1\" class=\"dataframe\">\n",
       "  <thead>\n",
       "    <tr style=\"text-align: right;\">\n",
       "      <th></th>\n",
       "      <th>C</th>\n",
       "      <th>x</th>\n",
       "      <th>y</th>\n",
       "    </tr>\n",
       "    <tr>\n",
       "      <th>A</th>\n",
       "      <th>B</th>\n",
       "      <th></th>\n",
       "      <th></th>\n",
       "    </tr>\n",
       "  </thead>\n",
       "  <tbody>\n",
       "    <tr>\n",
       "      <th rowspan=\"2\" valign=\"top\">bar</th>\n",
       "      <th>one</th>\n",
       "      <td>4.0</td>\n",
       "      <td>1.0</td>\n",
       "    </tr>\n",
       "    <tr>\n",
       "      <th>two</th>\n",
       "      <td>NaN</td>\n",
       "      <td>5.0</td>\n",
       "    </tr>\n",
       "    <tr>\n",
       "      <th rowspan=\"2\" valign=\"top\">foo</th>\n",
       "      <th>one</th>\n",
       "      <td>1.0</td>\n",
       "      <td>3.0</td>\n",
       "    </tr>\n",
       "    <tr>\n",
       "      <th>two</th>\n",
       "      <td>2.0</td>\n",
       "      <td>NaN</td>\n",
       "    </tr>\n",
       "  </tbody>\n",
       "</table>\n",
       "</div>"
      ],
      "text/plain": [
       "C          x    y\n",
       "A   B            \n",
       "bar one  4.0  1.0\n",
       "    two  NaN  5.0\n",
       "foo one  1.0  3.0\n",
       "    two  2.0  NaN"
      ]
     },
     "execution_count": 56,
     "metadata": {},
     "output_type": "execute_result"
    }
   ],
   "source": [
    "df.pivot_table(values='D', index=['A','B'], columns='C')"
   ]
  },
  {
   "cell_type": "markdown",
   "id": "12787e1f",
   "metadata": {},
   "source": [
    "# series"
   ]
  },
  {
   "cell_type": "code",
   "execution_count": 1,
   "id": "7bae3292",
   "metadata": {},
   "outputs": [
    {
     "ename": "NameError",
     "evalue": "name 'pd' is not defined",
     "output_type": "error",
     "traceback": [
      "\u001b[1;31m---------------------------------------------------------------------------\u001b[0m",
      "\u001b[1;31mNameError\u001b[0m                                 Traceback (most recent call last)",
      "Input \u001b[1;32mIn [1]\u001b[0m, in \u001b[0;36m<module>\u001b[1;34m\u001b[0m\n\u001b[1;32m----> 1\u001b[0m ser \u001b[38;5;241m=\u001b[39m \u001b[43mpd\u001b[49m\u001b[38;5;241m.\u001b[39mSeries(np\u001b[38;5;241m.\u001b[39mrandom\u001b[38;5;241m.\u001b[39mrand(\u001b[38;5;241m34\u001b[39m))\n",
      "\u001b[1;31mNameError\u001b[0m: name 'pd' is not defined"
     ]
    }
   ],
   "source": [
    "ser = pd.Series(np.random.rand(34))"
   ]
  },
  {
   "cell_type": "code",
   "execution_count": 2,
   "id": "45a5c450",
   "metadata": {},
   "outputs": [],
   "source": [
    "import pandas as pd\n",
    "import numpy as np"
   ]
  },
  {
   "cell_type": "code",
   "execution_count": 3,
   "id": "5adbd556",
   "metadata": {},
   "outputs": [],
   "source": [
    "ser = pd.Series(np.random.rand(34))"
   ]
  },
  {
   "cell_type": "code",
   "execution_count": 4,
   "id": "27bb3dc4",
   "metadata": {},
   "outputs": [
    {
     "data": {
      "text/plain": [
       "pandas.core.series.Series"
      ]
     },
     "execution_count": 4,
     "metadata": {},
     "output_type": "execute_result"
    }
   ],
   "source": [
    "type(ser)"
   ]
  },
  {
   "cell_type": "code",
   "execution_count": 5,
   "id": "a7986a93",
   "metadata": {},
   "outputs": [],
   "source": [
    "newdf = pd.DataFrame(np.random.rand(334,5),index = np.arange(334))"
   ]
  },
  {
   "cell_type": "code",
   "execution_count": 6,
   "id": "c3c952fb",
   "metadata": {},
   "outputs": [
    {
     "data": {
      "text/html": [
       "<div>\n",
       "<style scoped>\n",
       "    .dataframe tbody tr th:only-of-type {\n",
       "        vertical-align: middle;\n",
       "    }\n",
       "\n",
       "    .dataframe tbody tr th {\n",
       "        vertical-align: top;\n",
       "    }\n",
       "\n",
       "    .dataframe thead th {\n",
       "        text-align: right;\n",
       "    }\n",
       "</style>\n",
       "<table border=\"1\" class=\"dataframe\">\n",
       "  <thead>\n",
       "    <tr style=\"text-align: right;\">\n",
       "      <th></th>\n",
       "      <th>0</th>\n",
       "      <th>1</th>\n",
       "      <th>2</th>\n",
       "      <th>3</th>\n",
       "      <th>4</th>\n",
       "    </tr>\n",
       "  </thead>\n",
       "  <tbody>\n",
       "    <tr>\n",
       "      <th>0</th>\n",
       "      <td>0.933206</td>\n",
       "      <td>0.356706</td>\n",
       "      <td>0.867255</td>\n",
       "      <td>0.780201</td>\n",
       "      <td>0.291534</td>\n",
       "    </tr>\n",
       "    <tr>\n",
       "      <th>1</th>\n",
       "      <td>0.761038</td>\n",
       "      <td>0.923045</td>\n",
       "      <td>0.753570</td>\n",
       "      <td>0.268786</td>\n",
       "      <td>0.390402</td>\n",
       "    </tr>\n",
       "    <tr>\n",
       "      <th>2</th>\n",
       "      <td>0.322548</td>\n",
       "      <td>0.463014</td>\n",
       "      <td>0.680828</td>\n",
       "      <td>0.174043</td>\n",
       "      <td>0.318236</td>\n",
       "    </tr>\n",
       "    <tr>\n",
       "      <th>3</th>\n",
       "      <td>0.053841</td>\n",
       "      <td>0.033368</td>\n",
       "      <td>0.203904</td>\n",
       "      <td>0.722816</td>\n",
       "      <td>0.455244</td>\n",
       "    </tr>\n",
       "    <tr>\n",
       "      <th>4</th>\n",
       "      <td>0.119687</td>\n",
       "      <td>0.876600</td>\n",
       "      <td>0.194055</td>\n",
       "      <td>0.403510</td>\n",
       "      <td>0.364206</td>\n",
       "    </tr>\n",
       "    <tr>\n",
       "      <th>...</th>\n",
       "      <td>...</td>\n",
       "      <td>...</td>\n",
       "      <td>...</td>\n",
       "      <td>...</td>\n",
       "      <td>...</td>\n",
       "    </tr>\n",
       "    <tr>\n",
       "      <th>329</th>\n",
       "      <td>0.627722</td>\n",
       "      <td>0.739972</td>\n",
       "      <td>0.580629</td>\n",
       "      <td>0.635118</td>\n",
       "      <td>0.469603</td>\n",
       "    </tr>\n",
       "    <tr>\n",
       "      <th>330</th>\n",
       "      <td>0.458728</td>\n",
       "      <td>0.455600</td>\n",
       "      <td>0.847667</td>\n",
       "      <td>0.506431</td>\n",
       "      <td>0.076280</td>\n",
       "    </tr>\n",
       "    <tr>\n",
       "      <th>331</th>\n",
       "      <td>0.689787</td>\n",
       "      <td>0.942063</td>\n",
       "      <td>0.655010</td>\n",
       "      <td>0.651538</td>\n",
       "      <td>0.209039</td>\n",
       "    </tr>\n",
       "    <tr>\n",
       "      <th>332</th>\n",
       "      <td>0.687602</td>\n",
       "      <td>0.594273</td>\n",
       "      <td>0.116586</td>\n",
       "      <td>0.360768</td>\n",
       "      <td>0.271495</td>\n",
       "    </tr>\n",
       "    <tr>\n",
       "      <th>333</th>\n",
       "      <td>0.558053</td>\n",
       "      <td>0.398693</td>\n",
       "      <td>0.166326</td>\n",
       "      <td>0.478666</td>\n",
       "      <td>0.097358</td>\n",
       "    </tr>\n",
       "  </tbody>\n",
       "</table>\n",
       "<p>334 rows × 5 columns</p>\n",
       "</div>"
      ],
      "text/plain": [
       "            0         1         2         3         4\n",
       "0    0.933206  0.356706  0.867255  0.780201  0.291534\n",
       "1    0.761038  0.923045  0.753570  0.268786  0.390402\n",
       "2    0.322548  0.463014  0.680828  0.174043  0.318236\n",
       "3    0.053841  0.033368  0.203904  0.722816  0.455244\n",
       "4    0.119687  0.876600  0.194055  0.403510  0.364206\n",
       "..        ...       ...       ...       ...       ...\n",
       "329  0.627722  0.739972  0.580629  0.635118  0.469603\n",
       "330  0.458728  0.455600  0.847667  0.506431  0.076280\n",
       "331  0.689787  0.942063  0.655010  0.651538  0.209039\n",
       "332  0.687602  0.594273  0.116586  0.360768  0.271495\n",
       "333  0.558053  0.398693  0.166326  0.478666  0.097358\n",
       "\n",
       "[334 rows x 5 columns]"
      ]
     },
     "execution_count": 6,
     "metadata": {},
     "output_type": "execute_result"
    }
   ],
   "source": [
    "newdf"
   ]
  },
  {
   "cell_type": "code",
   "execution_count": 7,
   "id": "f970582f",
   "metadata": {},
   "outputs": [
    {
     "data": {
      "text/plain": [
       "pandas.core.frame.DataFrame"
      ]
     },
     "execution_count": 7,
     "metadata": {},
     "output_type": "execute_result"
    }
   ],
   "source": [
    "type(newdf)\n"
   ]
  },
  {
   "cell_type": "code",
   "execution_count": 8,
   "id": "8b86fad9",
   "metadata": {},
   "outputs": [
    {
     "data": {
      "text/html": [
       "<div>\n",
       "<style scoped>\n",
       "    .dataframe tbody tr th:only-of-type {\n",
       "        vertical-align: middle;\n",
       "    }\n",
       "\n",
       "    .dataframe tbody tr th {\n",
       "        vertical-align: top;\n",
       "    }\n",
       "\n",
       "    .dataframe thead th {\n",
       "        text-align: right;\n",
       "    }\n",
       "</style>\n",
       "<table border=\"1\" class=\"dataframe\">\n",
       "  <thead>\n",
       "    <tr style=\"text-align: right;\">\n",
       "      <th></th>\n",
       "      <th>0</th>\n",
       "      <th>1</th>\n",
       "      <th>2</th>\n",
       "      <th>3</th>\n",
       "      <th>4</th>\n",
       "    </tr>\n",
       "  </thead>\n",
       "  <tbody>\n",
       "    <tr>\n",
       "      <th>count</th>\n",
       "      <td>334.000000</td>\n",
       "      <td>334.000000</td>\n",
       "      <td>334.000000</td>\n",
       "      <td>334.000000</td>\n",
       "      <td>334.000000</td>\n",
       "    </tr>\n",
       "    <tr>\n",
       "      <th>mean</th>\n",
       "      <td>0.501050</td>\n",
       "      <td>0.485792</td>\n",
       "      <td>0.508155</td>\n",
       "      <td>0.489234</td>\n",
       "      <td>0.508883</td>\n",
       "    </tr>\n",
       "    <tr>\n",
       "      <th>std</th>\n",
       "      <td>0.295414</td>\n",
       "      <td>0.272893</td>\n",
       "      <td>0.279386</td>\n",
       "      <td>0.289802</td>\n",
       "      <td>0.286548</td>\n",
       "    </tr>\n",
       "    <tr>\n",
       "      <th>min</th>\n",
       "      <td>0.003941</td>\n",
       "      <td>0.000773</td>\n",
       "      <td>0.004432</td>\n",
       "      <td>0.001524</td>\n",
       "      <td>0.005136</td>\n",
       "    </tr>\n",
       "    <tr>\n",
       "      <th>25%</th>\n",
       "      <td>0.236335</td>\n",
       "      <td>0.258550</td>\n",
       "      <td>0.272961</td>\n",
       "      <td>0.256618</td>\n",
       "      <td>0.283590</td>\n",
       "    </tr>\n",
       "    <tr>\n",
       "      <th>50%</th>\n",
       "      <td>0.495619</td>\n",
       "      <td>0.477050</td>\n",
       "      <td>0.535787</td>\n",
       "      <td>0.491175</td>\n",
       "      <td>0.510281</td>\n",
       "    </tr>\n",
       "    <tr>\n",
       "      <th>75%</th>\n",
       "      <td>0.758063</td>\n",
       "      <td>0.698769</td>\n",
       "      <td>0.736777</td>\n",
       "      <td>0.732976</td>\n",
       "      <td>0.771643</td>\n",
       "    </tr>\n",
       "    <tr>\n",
       "      <th>max</th>\n",
       "      <td>0.997866</td>\n",
       "      <td>0.995216</td>\n",
       "      <td>0.998592</td>\n",
       "      <td>0.998840</td>\n",
       "      <td>0.999840</td>\n",
       "    </tr>\n",
       "  </tbody>\n",
       "</table>\n",
       "</div>"
      ],
      "text/plain": [
       "                0           1           2           3           4\n",
       "count  334.000000  334.000000  334.000000  334.000000  334.000000\n",
       "mean     0.501050    0.485792    0.508155    0.489234    0.508883\n",
       "std      0.295414    0.272893    0.279386    0.289802    0.286548\n",
       "min      0.003941    0.000773    0.004432    0.001524    0.005136\n",
       "25%      0.236335    0.258550    0.272961    0.256618    0.283590\n",
       "50%      0.495619    0.477050    0.535787    0.491175    0.510281\n",
       "75%      0.758063    0.698769    0.736777    0.732976    0.771643\n",
       "max      0.997866    0.995216    0.998592    0.998840    0.999840"
      ]
     },
     "execution_count": 8,
     "metadata": {},
     "output_type": "execute_result"
    }
   ],
   "source": [
    "newdf.describe()"
   ]
  },
  {
   "cell_type": "code",
   "execution_count": 10,
   "id": "3486cf1b",
   "metadata": {},
   "outputs": [
    {
     "data": {
      "text/plain": [
       "0    float64\n",
       "1    float64\n",
       "2    float64\n",
       "3    float64\n",
       "4    float64\n",
       "dtype: object"
      ]
     },
     "execution_count": 10,
     "metadata": {},
     "output_type": "execute_result"
    }
   ],
   "source": [
    "newdf.dtypes"
   ]
  },
  {
   "cell_type": "code",
   "execution_count": 11,
   "id": "a2512a15",
   "metadata": {},
   "outputs": [],
   "source": [
    "df = pd.DataFrame(newdf)"
   ]
  },
  {
   "cell_type": "code",
   "execution_count": 12,
   "id": "565ee432",
   "metadata": {},
   "outputs": [
    {
     "data": {
      "text/html": [
       "<div>\n",
       "<style scoped>\n",
       "    .dataframe tbody tr th:only-of-type {\n",
       "        vertical-align: middle;\n",
       "    }\n",
       "\n",
       "    .dataframe tbody tr th {\n",
       "        vertical-align: top;\n",
       "    }\n",
       "\n",
       "    .dataframe thead th {\n",
       "        text-align: right;\n",
       "    }\n",
       "</style>\n",
       "<table border=\"1\" class=\"dataframe\">\n",
       "  <thead>\n",
       "    <tr style=\"text-align: right;\">\n",
       "      <th></th>\n",
       "      <th>0</th>\n",
       "      <th>1</th>\n",
       "      <th>2</th>\n",
       "      <th>3</th>\n",
       "      <th>4</th>\n",
       "    </tr>\n",
       "  </thead>\n",
       "  <tbody>\n",
       "    <tr>\n",
       "      <th>0</th>\n",
       "      <td>0.933206</td>\n",
       "      <td>0.356706</td>\n",
       "      <td>0.867255</td>\n",
       "      <td>0.780201</td>\n",
       "      <td>0.291534</td>\n",
       "    </tr>\n",
       "    <tr>\n",
       "      <th>1</th>\n",
       "      <td>0.761038</td>\n",
       "      <td>0.923045</td>\n",
       "      <td>0.753570</td>\n",
       "      <td>0.268786</td>\n",
       "      <td>0.390402</td>\n",
       "    </tr>\n",
       "    <tr>\n",
       "      <th>2</th>\n",
       "      <td>0.322548</td>\n",
       "      <td>0.463014</td>\n",
       "      <td>0.680828</td>\n",
       "      <td>0.174043</td>\n",
       "      <td>0.318236</td>\n",
       "    </tr>\n",
       "    <tr>\n",
       "      <th>3</th>\n",
       "      <td>0.053841</td>\n",
       "      <td>0.033368</td>\n",
       "      <td>0.203904</td>\n",
       "      <td>0.722816</td>\n",
       "      <td>0.455244</td>\n",
       "    </tr>\n",
       "    <tr>\n",
       "      <th>4</th>\n",
       "      <td>0.119687</td>\n",
       "      <td>0.876600</td>\n",
       "      <td>0.194055</td>\n",
       "      <td>0.403510</td>\n",
       "      <td>0.364206</td>\n",
       "    </tr>\n",
       "    <tr>\n",
       "      <th>...</th>\n",
       "      <td>...</td>\n",
       "      <td>...</td>\n",
       "      <td>...</td>\n",
       "      <td>...</td>\n",
       "      <td>...</td>\n",
       "    </tr>\n",
       "    <tr>\n",
       "      <th>329</th>\n",
       "      <td>0.627722</td>\n",
       "      <td>0.739972</td>\n",
       "      <td>0.580629</td>\n",
       "      <td>0.635118</td>\n",
       "      <td>0.469603</td>\n",
       "    </tr>\n",
       "    <tr>\n",
       "      <th>330</th>\n",
       "      <td>0.458728</td>\n",
       "      <td>0.455600</td>\n",
       "      <td>0.847667</td>\n",
       "      <td>0.506431</td>\n",
       "      <td>0.076280</td>\n",
       "    </tr>\n",
       "    <tr>\n",
       "      <th>331</th>\n",
       "      <td>0.689787</td>\n",
       "      <td>0.942063</td>\n",
       "      <td>0.655010</td>\n",
       "      <td>0.651538</td>\n",
       "      <td>0.209039</td>\n",
       "    </tr>\n",
       "    <tr>\n",
       "      <th>332</th>\n",
       "      <td>0.687602</td>\n",
       "      <td>0.594273</td>\n",
       "      <td>0.116586</td>\n",
       "      <td>0.360768</td>\n",
       "      <td>0.271495</td>\n",
       "    </tr>\n",
       "    <tr>\n",
       "      <th>333</th>\n",
       "      <td>0.558053</td>\n",
       "      <td>0.398693</td>\n",
       "      <td>0.166326</td>\n",
       "      <td>0.478666</td>\n",
       "      <td>0.097358</td>\n",
       "    </tr>\n",
       "  </tbody>\n",
       "</table>\n",
       "<p>334 rows × 5 columns</p>\n",
       "</div>"
      ],
      "text/plain": [
       "            0         1         2         3         4\n",
       "0    0.933206  0.356706  0.867255  0.780201  0.291534\n",
       "1    0.761038  0.923045  0.753570  0.268786  0.390402\n",
       "2    0.322548  0.463014  0.680828  0.174043  0.318236\n",
       "3    0.053841  0.033368  0.203904  0.722816  0.455244\n",
       "4    0.119687  0.876600  0.194055  0.403510  0.364206\n",
       "..        ...       ...       ...       ...       ...\n",
       "329  0.627722  0.739972  0.580629  0.635118  0.469603\n",
       "330  0.458728  0.455600  0.847667  0.506431  0.076280\n",
       "331  0.689787  0.942063  0.655010  0.651538  0.209039\n",
       "332  0.687602  0.594273  0.116586  0.360768  0.271495\n",
       "333  0.558053  0.398693  0.166326  0.478666  0.097358\n",
       "\n",
       "[334 rows x 5 columns]"
      ]
     },
     "execution_count": 12,
     "metadata": {},
     "output_type": "execute_result"
    }
   ],
   "source": [
    "df"
   ]
  },
  {
   "cell_type": "code",
   "execution_count": 13,
   "id": "57730b95",
   "metadata": {},
   "outputs": [],
   "source": [
    "df.to_csv('series.csv')"
   ]
  },
  {
   "cell_type": "code",
   "execution_count": 14,
   "id": "2945ea5e",
   "metadata": {},
   "outputs": [
    {
     "data": {
      "text/html": [
       "<div>\n",
       "<style scoped>\n",
       "    .dataframe tbody tr th:only-of-type {\n",
       "        vertical-align: middle;\n",
       "    }\n",
       "\n",
       "    .dataframe tbody tr th {\n",
       "        vertical-align: top;\n",
       "    }\n",
       "\n",
       "    .dataframe thead th {\n",
       "        text-align: right;\n",
       "    }\n",
       "</style>\n",
       "<table border=\"1\" class=\"dataframe\">\n",
       "  <thead>\n",
       "    <tr style=\"text-align: right;\">\n",
       "      <th></th>\n",
       "      <th>0</th>\n",
       "      <th>1</th>\n",
       "      <th>2</th>\n",
       "      <th>3</th>\n",
       "      <th>4</th>\n",
       "    </tr>\n",
       "  </thead>\n",
       "  <tbody>\n",
       "    <tr>\n",
       "      <th>0</th>\n",
       "      <td>0.933206</td>\n",
       "      <td>0.356706</td>\n",
       "      <td>0.867255</td>\n",
       "      <td>0.780201</td>\n",
       "      <td>0.291534</td>\n",
       "    </tr>\n",
       "    <tr>\n",
       "      <th>1</th>\n",
       "      <td>0.761038</td>\n",
       "      <td>0.923045</td>\n",
       "      <td>0.753570</td>\n",
       "      <td>0.268786</td>\n",
       "      <td>0.390402</td>\n",
       "    </tr>\n",
       "    <tr>\n",
       "      <th>2</th>\n",
       "      <td>0.322548</td>\n",
       "      <td>0.463014</td>\n",
       "      <td>0.680828</td>\n",
       "      <td>0.174043</td>\n",
       "      <td>0.318236</td>\n",
       "    </tr>\n",
       "    <tr>\n",
       "      <th>3</th>\n",
       "      <td>0.053841</td>\n",
       "      <td>0.033368</td>\n",
       "      <td>0.203904</td>\n",
       "      <td>0.722816</td>\n",
       "      <td>0.455244</td>\n",
       "    </tr>\n",
       "    <tr>\n",
       "      <th>4</th>\n",
       "      <td>0.119687</td>\n",
       "      <td>0.876600</td>\n",
       "      <td>0.194055</td>\n",
       "      <td>0.403510</td>\n",
       "      <td>0.364206</td>\n",
       "    </tr>\n",
       "  </tbody>\n",
       "</table>\n",
       "</div>"
      ],
      "text/plain": [
       "          0         1         2         3         4\n",
       "0  0.933206  0.356706  0.867255  0.780201  0.291534\n",
       "1  0.761038  0.923045  0.753570  0.268786  0.390402\n",
       "2  0.322548  0.463014  0.680828  0.174043  0.318236\n",
       "3  0.053841  0.033368  0.203904  0.722816  0.455244\n",
       "4  0.119687  0.876600  0.194055  0.403510  0.364206"
      ]
     },
     "execution_count": 14,
     "metadata": {},
     "output_type": "execute_result"
    }
   ],
   "source": [
    "newdf.head()"
   ]
  },
  {
   "cell_type": "code",
   "execution_count": 15,
   "id": "2cc9c3df",
   "metadata": {},
   "outputs": [
    {
     "data": {
      "text/html": [
       "<div>\n",
       "<style scoped>\n",
       "    .dataframe tbody tr th:only-of-type {\n",
       "        vertical-align: middle;\n",
       "    }\n",
       "\n",
       "    .dataframe tbody tr th {\n",
       "        vertical-align: top;\n",
       "    }\n",
       "\n",
       "    .dataframe thead th {\n",
       "        text-align: right;\n",
       "    }\n",
       "</style>\n",
       "<table border=\"1\" class=\"dataframe\">\n",
       "  <thead>\n",
       "    <tr style=\"text-align: right;\">\n",
       "      <th></th>\n",
       "      <th>0</th>\n",
       "      <th>1</th>\n",
       "      <th>2</th>\n",
       "      <th>3</th>\n",
       "      <th>4</th>\n",
       "      <th>5</th>\n",
       "      <th>6</th>\n",
       "      <th>7</th>\n",
       "      <th>8</th>\n",
       "      <th>9</th>\n",
       "      <th>...</th>\n",
       "      <th>324</th>\n",
       "      <th>325</th>\n",
       "      <th>326</th>\n",
       "      <th>327</th>\n",
       "      <th>328</th>\n",
       "      <th>329</th>\n",
       "      <th>330</th>\n",
       "      <th>331</th>\n",
       "      <th>332</th>\n",
       "      <th>333</th>\n",
       "    </tr>\n",
       "  </thead>\n",
       "  <tbody>\n",
       "    <tr>\n",
       "      <th>0</th>\n",
       "      <td>0.933206</td>\n",
       "      <td>0.761038</td>\n",
       "      <td>0.322548</td>\n",
       "      <td>0.053841</td>\n",
       "      <td>0.119687</td>\n",
       "      <td>0.829895</td>\n",
       "      <td>0.361813</td>\n",
       "      <td>0.590238</td>\n",
       "      <td>0.304198</td>\n",
       "      <td>0.408117</td>\n",
       "      <td>...</td>\n",
       "      <td>0.713847</td>\n",
       "      <td>0.959810</td>\n",
       "      <td>0.982779</td>\n",
       "      <td>0.173073</td>\n",
       "      <td>0.361994</td>\n",
       "      <td>0.627722</td>\n",
       "      <td>0.458728</td>\n",
       "      <td>0.689787</td>\n",
       "      <td>0.687602</td>\n",
       "      <td>0.558053</td>\n",
       "    </tr>\n",
       "    <tr>\n",
       "      <th>1</th>\n",
       "      <td>0.356706</td>\n",
       "      <td>0.923045</td>\n",
       "      <td>0.463014</td>\n",
       "      <td>0.033368</td>\n",
       "      <td>0.876600</td>\n",
       "      <td>0.405635</td>\n",
       "      <td>0.421963</td>\n",
       "      <td>0.166720</td>\n",
       "      <td>0.722034</td>\n",
       "      <td>0.192523</td>\n",
       "      <td>...</td>\n",
       "      <td>0.664519</td>\n",
       "      <td>0.044787</td>\n",
       "      <td>0.494486</td>\n",
       "      <td>0.399285</td>\n",
       "      <td>0.182643</td>\n",
       "      <td>0.739972</td>\n",
       "      <td>0.455600</td>\n",
       "      <td>0.942063</td>\n",
       "      <td>0.594273</td>\n",
       "      <td>0.398693</td>\n",
       "    </tr>\n",
       "    <tr>\n",
       "      <th>2</th>\n",
       "      <td>0.867255</td>\n",
       "      <td>0.753570</td>\n",
       "      <td>0.680828</td>\n",
       "      <td>0.203904</td>\n",
       "      <td>0.194055</td>\n",
       "      <td>0.487957</td>\n",
       "      <td>0.283818</td>\n",
       "      <td>0.041642</td>\n",
       "      <td>0.049886</td>\n",
       "      <td>0.456362</td>\n",
       "      <td>...</td>\n",
       "      <td>0.869902</td>\n",
       "      <td>0.877796</td>\n",
       "      <td>0.274282</td>\n",
       "      <td>0.841467</td>\n",
       "      <td>0.092774</td>\n",
       "      <td>0.580629</td>\n",
       "      <td>0.847667</td>\n",
       "      <td>0.655010</td>\n",
       "      <td>0.116586</td>\n",
       "      <td>0.166326</td>\n",
       "    </tr>\n",
       "    <tr>\n",
       "      <th>3</th>\n",
       "      <td>0.780201</td>\n",
       "      <td>0.268786</td>\n",
       "      <td>0.174043</td>\n",
       "      <td>0.722816</td>\n",
       "      <td>0.403510</td>\n",
       "      <td>0.256697</td>\n",
       "      <td>0.705973</td>\n",
       "      <td>0.749116</td>\n",
       "      <td>0.061314</td>\n",
       "      <td>0.668781</td>\n",
       "      <td>...</td>\n",
       "      <td>0.921280</td>\n",
       "      <td>0.110868</td>\n",
       "      <td>0.363295</td>\n",
       "      <td>0.567683</td>\n",
       "      <td>0.842270</td>\n",
       "      <td>0.635118</td>\n",
       "      <td>0.506431</td>\n",
       "      <td>0.651538</td>\n",
       "      <td>0.360768</td>\n",
       "      <td>0.478666</td>\n",
       "    </tr>\n",
       "    <tr>\n",
       "      <th>4</th>\n",
       "      <td>0.291534</td>\n",
       "      <td>0.390402</td>\n",
       "      <td>0.318236</td>\n",
       "      <td>0.455244</td>\n",
       "      <td>0.364206</td>\n",
       "      <td>0.963871</td>\n",
       "      <td>0.649756</td>\n",
       "      <td>0.846273</td>\n",
       "      <td>0.274173</td>\n",
       "      <td>0.118798</td>\n",
       "      <td>...</td>\n",
       "      <td>0.357924</td>\n",
       "      <td>0.826885</td>\n",
       "      <td>0.472652</td>\n",
       "      <td>0.660754</td>\n",
       "      <td>0.677442</td>\n",
       "      <td>0.469603</td>\n",
       "      <td>0.076280</td>\n",
       "      <td>0.209039</td>\n",
       "      <td>0.271495</td>\n",
       "      <td>0.097358</td>\n",
       "    </tr>\n",
       "  </tbody>\n",
       "</table>\n",
       "<p>5 rows × 334 columns</p>\n",
       "</div>"
      ],
      "text/plain": [
       "        0         1         2         3         4         5         6    \\\n",
       "0  0.933206  0.761038  0.322548  0.053841  0.119687  0.829895  0.361813   \n",
       "1  0.356706  0.923045  0.463014  0.033368  0.876600  0.405635  0.421963   \n",
       "2  0.867255  0.753570  0.680828  0.203904  0.194055  0.487957  0.283818   \n",
       "3  0.780201  0.268786  0.174043  0.722816  0.403510  0.256697  0.705973   \n",
       "4  0.291534  0.390402  0.318236  0.455244  0.364206  0.963871  0.649756   \n",
       "\n",
       "        7         8         9    ...       324       325       326       327  \\\n",
       "0  0.590238  0.304198  0.408117  ...  0.713847  0.959810  0.982779  0.173073   \n",
       "1  0.166720  0.722034  0.192523  ...  0.664519  0.044787  0.494486  0.399285   \n",
       "2  0.041642  0.049886  0.456362  ...  0.869902  0.877796  0.274282  0.841467   \n",
       "3  0.749116  0.061314  0.668781  ...  0.921280  0.110868  0.363295  0.567683   \n",
       "4  0.846273  0.274173  0.118798  ...  0.357924  0.826885  0.472652  0.660754   \n",
       "\n",
       "        328       329       330       331       332       333  \n",
       "0  0.361994  0.627722  0.458728  0.689787  0.687602  0.558053  \n",
       "1  0.182643  0.739972  0.455600  0.942063  0.594273  0.398693  \n",
       "2  0.092774  0.580629  0.847667  0.655010  0.116586  0.166326  \n",
       "3  0.842270  0.635118  0.506431  0.651538  0.360768  0.478666  \n",
       "4  0.677442  0.469603  0.076280  0.209039  0.271495  0.097358  \n",
       "\n",
       "[5 rows x 334 columns]"
      ]
     },
     "execution_count": 15,
     "metadata": {},
     "output_type": "execute_result"
    }
   ],
   "source": [
    "newdf.T"
   ]
  },
  {
   "cell_type": "code",
   "execution_count": 16,
   "id": "03c56b01",
   "metadata": {},
   "outputs": [
    {
     "data": {
      "text/html": [
       "<div>\n",
       "<style scoped>\n",
       "    .dataframe tbody tr th:only-of-type {\n",
       "        vertical-align: middle;\n",
       "    }\n",
       "\n",
       "    .dataframe tbody tr th {\n",
       "        vertical-align: top;\n",
       "    }\n",
       "\n",
       "    .dataframe thead th {\n",
       "        text-align: right;\n",
       "    }\n",
       "</style>\n",
       "<table border=\"1\" class=\"dataframe\">\n",
       "  <thead>\n",
       "    <tr style=\"text-align: right;\">\n",
       "      <th></th>\n",
       "      <th>0</th>\n",
       "      <th>1</th>\n",
       "      <th>2</th>\n",
       "      <th>3</th>\n",
       "      <th>4</th>\n",
       "    </tr>\n",
       "  </thead>\n",
       "  <tbody>\n",
       "    <tr>\n",
       "      <th>333</th>\n",
       "      <td>0.558053</td>\n",
       "      <td>0.398693</td>\n",
       "      <td>0.166326</td>\n",
       "      <td>0.478666</td>\n",
       "      <td>0.097358</td>\n",
       "    </tr>\n",
       "    <tr>\n",
       "      <th>332</th>\n",
       "      <td>0.687602</td>\n",
       "      <td>0.594273</td>\n",
       "      <td>0.116586</td>\n",
       "      <td>0.360768</td>\n",
       "      <td>0.271495</td>\n",
       "    </tr>\n",
       "    <tr>\n",
       "      <th>331</th>\n",
       "      <td>0.689787</td>\n",
       "      <td>0.942063</td>\n",
       "      <td>0.655010</td>\n",
       "      <td>0.651538</td>\n",
       "      <td>0.209039</td>\n",
       "    </tr>\n",
       "    <tr>\n",
       "      <th>330</th>\n",
       "      <td>0.458728</td>\n",
       "      <td>0.455600</td>\n",
       "      <td>0.847667</td>\n",
       "      <td>0.506431</td>\n",
       "      <td>0.076280</td>\n",
       "    </tr>\n",
       "    <tr>\n",
       "      <th>329</th>\n",
       "      <td>0.627722</td>\n",
       "      <td>0.739972</td>\n",
       "      <td>0.580629</td>\n",
       "      <td>0.635118</td>\n",
       "      <td>0.469603</td>\n",
       "    </tr>\n",
       "    <tr>\n",
       "      <th>...</th>\n",
       "      <td>...</td>\n",
       "      <td>...</td>\n",
       "      <td>...</td>\n",
       "      <td>...</td>\n",
       "      <td>...</td>\n",
       "    </tr>\n",
       "    <tr>\n",
       "      <th>4</th>\n",
       "      <td>0.119687</td>\n",
       "      <td>0.876600</td>\n",
       "      <td>0.194055</td>\n",
       "      <td>0.403510</td>\n",
       "      <td>0.364206</td>\n",
       "    </tr>\n",
       "    <tr>\n",
       "      <th>3</th>\n",
       "      <td>0.053841</td>\n",
       "      <td>0.033368</td>\n",
       "      <td>0.203904</td>\n",
       "      <td>0.722816</td>\n",
       "      <td>0.455244</td>\n",
       "    </tr>\n",
       "    <tr>\n",
       "      <th>2</th>\n",
       "      <td>0.322548</td>\n",
       "      <td>0.463014</td>\n",
       "      <td>0.680828</td>\n",
       "      <td>0.174043</td>\n",
       "      <td>0.318236</td>\n",
       "    </tr>\n",
       "    <tr>\n",
       "      <th>1</th>\n",
       "      <td>0.761038</td>\n",
       "      <td>0.923045</td>\n",
       "      <td>0.753570</td>\n",
       "      <td>0.268786</td>\n",
       "      <td>0.390402</td>\n",
       "    </tr>\n",
       "    <tr>\n",
       "      <th>0</th>\n",
       "      <td>0.933206</td>\n",
       "      <td>0.356706</td>\n",
       "      <td>0.867255</td>\n",
       "      <td>0.780201</td>\n",
       "      <td>0.291534</td>\n",
       "    </tr>\n",
       "  </tbody>\n",
       "</table>\n",
       "<p>334 rows × 5 columns</p>\n",
       "</div>"
      ],
      "text/plain": [
       "            0         1         2         3         4\n",
       "333  0.558053  0.398693  0.166326  0.478666  0.097358\n",
       "332  0.687602  0.594273  0.116586  0.360768  0.271495\n",
       "331  0.689787  0.942063  0.655010  0.651538  0.209039\n",
       "330  0.458728  0.455600  0.847667  0.506431  0.076280\n",
       "329  0.627722  0.739972  0.580629  0.635118  0.469603\n",
       "..        ...       ...       ...       ...       ...\n",
       "4    0.119687  0.876600  0.194055  0.403510  0.364206\n",
       "3    0.053841  0.033368  0.203904  0.722816  0.455244\n",
       "2    0.322548  0.463014  0.680828  0.174043  0.318236\n",
       "1    0.761038  0.923045  0.753570  0.268786  0.390402\n",
       "0    0.933206  0.356706  0.867255  0.780201  0.291534\n",
       "\n",
       "[334 rows x 5 columns]"
      ]
     },
     "execution_count": 16,
     "metadata": {},
     "output_type": "execute_result"
    }
   ],
   "source": [
    "newdf.sort_index(axis = 0,ascending = False)"
   ]
  },
  {
   "cell_type": "code",
   "execution_count": 17,
   "id": "89202d37",
   "metadata": {},
   "outputs": [
    {
     "data": {
      "text/html": [
       "<div>\n",
       "<style scoped>\n",
       "    .dataframe tbody tr th:only-of-type {\n",
       "        vertical-align: middle;\n",
       "    }\n",
       "\n",
       "    .dataframe tbody tr th {\n",
       "        vertical-align: top;\n",
       "    }\n",
       "\n",
       "    .dataframe thead th {\n",
       "        text-align: right;\n",
       "    }\n",
       "</style>\n",
       "<table border=\"1\" class=\"dataframe\">\n",
       "  <thead>\n",
       "    <tr style=\"text-align: right;\">\n",
       "      <th></th>\n",
       "      <th>4</th>\n",
       "      <th>3</th>\n",
       "      <th>2</th>\n",
       "      <th>1</th>\n",
       "      <th>0</th>\n",
       "    </tr>\n",
       "  </thead>\n",
       "  <tbody>\n",
       "    <tr>\n",
       "      <th>0</th>\n",
       "      <td>0.291534</td>\n",
       "      <td>0.780201</td>\n",
       "      <td>0.867255</td>\n",
       "      <td>0.356706</td>\n",
       "      <td>0.933206</td>\n",
       "    </tr>\n",
       "    <tr>\n",
       "      <th>1</th>\n",
       "      <td>0.390402</td>\n",
       "      <td>0.268786</td>\n",
       "      <td>0.753570</td>\n",
       "      <td>0.923045</td>\n",
       "      <td>0.761038</td>\n",
       "    </tr>\n",
       "    <tr>\n",
       "      <th>2</th>\n",
       "      <td>0.318236</td>\n",
       "      <td>0.174043</td>\n",
       "      <td>0.680828</td>\n",
       "      <td>0.463014</td>\n",
       "      <td>0.322548</td>\n",
       "    </tr>\n",
       "    <tr>\n",
       "      <th>3</th>\n",
       "      <td>0.455244</td>\n",
       "      <td>0.722816</td>\n",
       "      <td>0.203904</td>\n",
       "      <td>0.033368</td>\n",
       "      <td>0.053841</td>\n",
       "    </tr>\n",
       "    <tr>\n",
       "      <th>4</th>\n",
       "      <td>0.364206</td>\n",
       "      <td>0.403510</td>\n",
       "      <td>0.194055</td>\n",
       "      <td>0.876600</td>\n",
       "      <td>0.119687</td>\n",
       "    </tr>\n",
       "    <tr>\n",
       "      <th>...</th>\n",
       "      <td>...</td>\n",
       "      <td>...</td>\n",
       "      <td>...</td>\n",
       "      <td>...</td>\n",
       "      <td>...</td>\n",
       "    </tr>\n",
       "    <tr>\n",
       "      <th>329</th>\n",
       "      <td>0.469603</td>\n",
       "      <td>0.635118</td>\n",
       "      <td>0.580629</td>\n",
       "      <td>0.739972</td>\n",
       "      <td>0.627722</td>\n",
       "    </tr>\n",
       "    <tr>\n",
       "      <th>330</th>\n",
       "      <td>0.076280</td>\n",
       "      <td>0.506431</td>\n",
       "      <td>0.847667</td>\n",
       "      <td>0.455600</td>\n",
       "      <td>0.458728</td>\n",
       "    </tr>\n",
       "    <tr>\n",
       "      <th>331</th>\n",
       "      <td>0.209039</td>\n",
       "      <td>0.651538</td>\n",
       "      <td>0.655010</td>\n",
       "      <td>0.942063</td>\n",
       "      <td>0.689787</td>\n",
       "    </tr>\n",
       "    <tr>\n",
       "      <th>332</th>\n",
       "      <td>0.271495</td>\n",
       "      <td>0.360768</td>\n",
       "      <td>0.116586</td>\n",
       "      <td>0.594273</td>\n",
       "      <td>0.687602</td>\n",
       "    </tr>\n",
       "    <tr>\n",
       "      <th>333</th>\n",
       "      <td>0.097358</td>\n",
       "      <td>0.478666</td>\n",
       "      <td>0.166326</td>\n",
       "      <td>0.398693</td>\n",
       "      <td>0.558053</td>\n",
       "    </tr>\n",
       "  </tbody>\n",
       "</table>\n",
       "<p>334 rows × 5 columns</p>\n",
       "</div>"
      ],
      "text/plain": [
       "            4         3         2         1         0\n",
       "0    0.291534  0.780201  0.867255  0.356706  0.933206\n",
       "1    0.390402  0.268786  0.753570  0.923045  0.761038\n",
       "2    0.318236  0.174043  0.680828  0.463014  0.322548\n",
       "3    0.455244  0.722816  0.203904  0.033368  0.053841\n",
       "4    0.364206  0.403510  0.194055  0.876600  0.119687\n",
       "..        ...       ...       ...       ...       ...\n",
       "329  0.469603  0.635118  0.580629  0.739972  0.627722\n",
       "330  0.076280  0.506431  0.847667  0.455600  0.458728\n",
       "331  0.209039  0.651538  0.655010  0.942063  0.689787\n",
       "332  0.271495  0.360768  0.116586  0.594273  0.687602\n",
       "333  0.097358  0.478666  0.166326  0.398693  0.558053\n",
       "\n",
       "[334 rows x 5 columns]"
      ]
     },
     "execution_count": 17,
     "metadata": {},
     "output_type": "execute_result"
    }
   ],
   "source": [
    "newdf.sort_index(axis = 1,ascending = False)"
   ]
  },
  {
   "cell_type": "code",
   "execution_count": 18,
   "id": "477f4e11",
   "metadata": {},
   "outputs": [
    {
     "data": {
      "text/plain": [
       "0      0.933206\n",
       "1      0.761038\n",
       "2      0.322548\n",
       "3      0.053841\n",
       "4      0.119687\n",
       "         ...   \n",
       "329    0.627722\n",
       "330    0.458728\n",
       "331    0.689787\n",
       "332    0.687602\n",
       "333    0.558053\n",
       "Name: 0, Length: 334, dtype: float64"
      ]
     },
     "execution_count": 18,
     "metadata": {},
     "output_type": "execute_result"
    }
   ],
   "source": [
    "newdf[0]"
   ]
  },
  {
   "cell_type": "code",
   "execution_count": 19,
   "id": "a228d2bb",
   "metadata": {},
   "outputs": [],
   "source": [
    "newdf2 = newdf"
   ]
  },
  {
   "cell_type": "code",
   "execution_count": 20,
   "id": "29cfd9c8",
   "metadata": {},
   "outputs": [
    {
     "data": {
      "text/html": [
       "<div>\n",
       "<style scoped>\n",
       "    .dataframe tbody tr th:only-of-type {\n",
       "        vertical-align: middle;\n",
       "    }\n",
       "\n",
       "    .dataframe tbody tr th {\n",
       "        vertical-align: top;\n",
       "    }\n",
       "\n",
       "    .dataframe thead th {\n",
       "        text-align: right;\n",
       "    }\n",
       "</style>\n",
       "<table border=\"1\" class=\"dataframe\">\n",
       "  <thead>\n",
       "    <tr style=\"text-align: right;\">\n",
       "      <th></th>\n",
       "      <th>0</th>\n",
       "      <th>1</th>\n",
       "      <th>2</th>\n",
       "      <th>3</th>\n",
       "      <th>4</th>\n",
       "    </tr>\n",
       "  </thead>\n",
       "  <tbody>\n",
       "    <tr>\n",
       "      <th>0</th>\n",
       "      <td>0.933206</td>\n",
       "      <td>0.356706</td>\n",
       "      <td>0.867255</td>\n",
       "      <td>0.780201</td>\n",
       "      <td>0.291534</td>\n",
       "    </tr>\n",
       "    <tr>\n",
       "      <th>1</th>\n",
       "      <td>0.761038</td>\n",
       "      <td>0.923045</td>\n",
       "      <td>0.753570</td>\n",
       "      <td>0.268786</td>\n",
       "      <td>0.390402</td>\n",
       "    </tr>\n",
       "    <tr>\n",
       "      <th>2</th>\n",
       "      <td>0.322548</td>\n",
       "      <td>0.463014</td>\n",
       "      <td>0.680828</td>\n",
       "      <td>0.174043</td>\n",
       "      <td>0.318236</td>\n",
       "    </tr>\n",
       "    <tr>\n",
       "      <th>3</th>\n",
       "      <td>0.053841</td>\n",
       "      <td>0.033368</td>\n",
       "      <td>0.203904</td>\n",
       "      <td>0.722816</td>\n",
       "      <td>0.455244</td>\n",
       "    </tr>\n",
       "    <tr>\n",
       "      <th>4</th>\n",
       "      <td>0.119687</td>\n",
       "      <td>0.876600</td>\n",
       "      <td>0.194055</td>\n",
       "      <td>0.403510</td>\n",
       "      <td>0.364206</td>\n",
       "    </tr>\n",
       "    <tr>\n",
       "      <th>...</th>\n",
       "      <td>...</td>\n",
       "      <td>...</td>\n",
       "      <td>...</td>\n",
       "      <td>...</td>\n",
       "      <td>...</td>\n",
       "    </tr>\n",
       "    <tr>\n",
       "      <th>329</th>\n",
       "      <td>0.627722</td>\n",
       "      <td>0.739972</td>\n",
       "      <td>0.580629</td>\n",
       "      <td>0.635118</td>\n",
       "      <td>0.469603</td>\n",
       "    </tr>\n",
       "    <tr>\n",
       "      <th>330</th>\n",
       "      <td>0.458728</td>\n",
       "      <td>0.455600</td>\n",
       "      <td>0.847667</td>\n",
       "      <td>0.506431</td>\n",
       "      <td>0.076280</td>\n",
       "    </tr>\n",
       "    <tr>\n",
       "      <th>331</th>\n",
       "      <td>0.689787</td>\n",
       "      <td>0.942063</td>\n",
       "      <td>0.655010</td>\n",
       "      <td>0.651538</td>\n",
       "      <td>0.209039</td>\n",
       "    </tr>\n",
       "    <tr>\n",
       "      <th>332</th>\n",
       "      <td>0.687602</td>\n",
       "      <td>0.594273</td>\n",
       "      <td>0.116586</td>\n",
       "      <td>0.360768</td>\n",
       "      <td>0.271495</td>\n",
       "    </tr>\n",
       "    <tr>\n",
       "      <th>333</th>\n",
       "      <td>0.558053</td>\n",
       "      <td>0.398693</td>\n",
       "      <td>0.166326</td>\n",
       "      <td>0.478666</td>\n",
       "      <td>0.097358</td>\n",
       "    </tr>\n",
       "  </tbody>\n",
       "</table>\n",
       "<p>334 rows × 5 columns</p>\n",
       "</div>"
      ],
      "text/plain": [
       "            0         1         2         3         4\n",
       "0    0.933206  0.356706  0.867255  0.780201  0.291534\n",
       "1    0.761038  0.923045  0.753570  0.268786  0.390402\n",
       "2    0.322548  0.463014  0.680828  0.174043  0.318236\n",
       "3    0.053841  0.033368  0.203904  0.722816  0.455244\n",
       "4    0.119687  0.876600  0.194055  0.403510  0.364206\n",
       "..        ...       ...       ...       ...       ...\n",
       "329  0.627722  0.739972  0.580629  0.635118  0.469603\n",
       "330  0.458728  0.455600  0.847667  0.506431  0.076280\n",
       "331  0.689787  0.942063  0.655010  0.651538  0.209039\n",
       "332  0.687602  0.594273  0.116586  0.360768  0.271495\n",
       "333  0.558053  0.398693  0.166326  0.478666  0.097358\n",
       "\n",
       "[334 rows x 5 columns]"
      ]
     },
     "execution_count": 20,
     "metadata": {},
     "output_type": "execute_result"
    }
   ],
   "source": [
    "newdf"
   ]
  },
  {
   "cell_type": "code",
   "execution_count": 21,
   "id": "6ef9ee49",
   "metadata": {},
   "outputs": [],
   "source": [
    "newdf[0][0] = 123456"
   ]
  },
  {
   "cell_type": "code",
   "execution_count": 22,
   "id": "6a1c678f",
   "metadata": {},
   "outputs": [],
   "source": [
    "newdf2[0][0]= 4444444"
   ]
  },
  {
   "cell_type": "code",
   "execution_count": 23,
   "id": "3b5262c7",
   "metadata": {},
   "outputs": [
    {
     "data": {
      "text/html": [
       "<div>\n",
       "<style scoped>\n",
       "    .dataframe tbody tr th:only-of-type {\n",
       "        vertical-align: middle;\n",
       "    }\n",
       "\n",
       "    .dataframe tbody tr th {\n",
       "        vertical-align: top;\n",
       "    }\n",
       "\n",
       "    .dataframe thead th {\n",
       "        text-align: right;\n",
       "    }\n",
       "</style>\n",
       "<table border=\"1\" class=\"dataframe\">\n",
       "  <thead>\n",
       "    <tr style=\"text-align: right;\">\n",
       "      <th></th>\n",
       "      <th>0</th>\n",
       "      <th>1</th>\n",
       "      <th>2</th>\n",
       "      <th>3</th>\n",
       "      <th>4</th>\n",
       "    </tr>\n",
       "  </thead>\n",
       "  <tbody>\n",
       "    <tr>\n",
       "      <th>0</th>\n",
       "      <td>4.444444e+06</td>\n",
       "      <td>0.356706</td>\n",
       "      <td>0.867255</td>\n",
       "      <td>0.780201</td>\n",
       "      <td>0.291534</td>\n",
       "    </tr>\n",
       "    <tr>\n",
       "      <th>1</th>\n",
       "      <td>7.610382e-01</td>\n",
       "      <td>0.923045</td>\n",
       "      <td>0.753570</td>\n",
       "      <td>0.268786</td>\n",
       "      <td>0.390402</td>\n",
       "    </tr>\n",
       "    <tr>\n",
       "      <th>2</th>\n",
       "      <td>3.225475e-01</td>\n",
       "      <td>0.463014</td>\n",
       "      <td>0.680828</td>\n",
       "      <td>0.174043</td>\n",
       "      <td>0.318236</td>\n",
       "    </tr>\n",
       "    <tr>\n",
       "      <th>3</th>\n",
       "      <td>5.384118e-02</td>\n",
       "      <td>0.033368</td>\n",
       "      <td>0.203904</td>\n",
       "      <td>0.722816</td>\n",
       "      <td>0.455244</td>\n",
       "    </tr>\n",
       "    <tr>\n",
       "      <th>4</th>\n",
       "      <td>1.196873e-01</td>\n",
       "      <td>0.876600</td>\n",
       "      <td>0.194055</td>\n",
       "      <td>0.403510</td>\n",
       "      <td>0.364206</td>\n",
       "    </tr>\n",
       "    <tr>\n",
       "      <th>...</th>\n",
       "      <td>...</td>\n",
       "      <td>...</td>\n",
       "      <td>...</td>\n",
       "      <td>...</td>\n",
       "      <td>...</td>\n",
       "    </tr>\n",
       "    <tr>\n",
       "      <th>329</th>\n",
       "      <td>6.277221e-01</td>\n",
       "      <td>0.739972</td>\n",
       "      <td>0.580629</td>\n",
       "      <td>0.635118</td>\n",
       "      <td>0.469603</td>\n",
       "    </tr>\n",
       "    <tr>\n",
       "      <th>330</th>\n",
       "      <td>4.587279e-01</td>\n",
       "      <td>0.455600</td>\n",
       "      <td>0.847667</td>\n",
       "      <td>0.506431</td>\n",
       "      <td>0.076280</td>\n",
       "    </tr>\n",
       "    <tr>\n",
       "      <th>331</th>\n",
       "      <td>6.897871e-01</td>\n",
       "      <td>0.942063</td>\n",
       "      <td>0.655010</td>\n",
       "      <td>0.651538</td>\n",
       "      <td>0.209039</td>\n",
       "    </tr>\n",
       "    <tr>\n",
       "      <th>332</th>\n",
       "      <td>6.876025e-01</td>\n",
       "      <td>0.594273</td>\n",
       "      <td>0.116586</td>\n",
       "      <td>0.360768</td>\n",
       "      <td>0.271495</td>\n",
       "    </tr>\n",
       "    <tr>\n",
       "      <th>333</th>\n",
       "      <td>5.580531e-01</td>\n",
       "      <td>0.398693</td>\n",
       "      <td>0.166326</td>\n",
       "      <td>0.478666</td>\n",
       "      <td>0.097358</td>\n",
       "    </tr>\n",
       "  </tbody>\n",
       "</table>\n",
       "<p>334 rows × 5 columns</p>\n",
       "</div>"
      ],
      "text/plain": [
       "                0         1         2         3         4\n",
       "0    4.444444e+06  0.356706  0.867255  0.780201  0.291534\n",
       "1    7.610382e-01  0.923045  0.753570  0.268786  0.390402\n",
       "2    3.225475e-01  0.463014  0.680828  0.174043  0.318236\n",
       "3    5.384118e-02  0.033368  0.203904  0.722816  0.455244\n",
       "4    1.196873e-01  0.876600  0.194055  0.403510  0.364206\n",
       "..            ...       ...       ...       ...       ...\n",
       "329  6.277221e-01  0.739972  0.580629  0.635118  0.469603\n",
       "330  4.587279e-01  0.455600  0.847667  0.506431  0.076280\n",
       "331  6.897871e-01  0.942063  0.655010  0.651538  0.209039\n",
       "332  6.876025e-01  0.594273  0.116586  0.360768  0.271495\n",
       "333  5.580531e-01  0.398693  0.166326  0.478666  0.097358\n",
       "\n",
       "[334 rows x 5 columns]"
      ]
     },
     "execution_count": 23,
     "metadata": {},
     "output_type": "execute_result"
    }
   ],
   "source": [
    "newdf2"
   ]
  },
  {
   "cell_type": "code",
   "execution_count": 25,
   "id": "e749d14d",
   "metadata": {},
   "outputs": [
    {
     "data": {
      "text/html": [
       "<div>\n",
       "<style scoped>\n",
       "    .dataframe tbody tr th:only-of-type {\n",
       "        vertical-align: middle;\n",
       "    }\n",
       "\n",
       "    .dataframe tbody tr th {\n",
       "        vertical-align: top;\n",
       "    }\n",
       "\n",
       "    .dataframe thead th {\n",
       "        text-align: right;\n",
       "    }\n",
       "</style>\n",
       "<table border=\"1\" class=\"dataframe\">\n",
       "  <thead>\n",
       "    <tr style=\"text-align: right;\">\n",
       "      <th></th>\n",
       "      <th>3</th>\n",
       "      <th>4</th>\n",
       "    </tr>\n",
       "  </thead>\n",
       "  <tbody>\n",
       "    <tr>\n",
       "      <th>1</th>\n",
       "      <td>0.268786</td>\n",
       "      <td>0.390402</td>\n",
       "    </tr>\n",
       "    <tr>\n",
       "      <th>2</th>\n",
       "      <td>0.174043</td>\n",
       "      <td>0.318236</td>\n",
       "    </tr>\n",
       "  </tbody>\n",
       "</table>\n",
       "</div>"
      ],
      "text/plain": [
       "          3         4\n",
       "1  0.268786  0.390402\n",
       "2  0.174043  0.318236"
      ]
     },
     "execution_count": 25,
     "metadata": {},
     "output_type": "execute_result"
    }
   ],
   "source": [
    "newdf.loc[[1,2], [3,4]]"
   ]
  },
  {
   "cell_type": "markdown",
   "id": "b4509a35",
   "metadata": {},
   "source": [
    "# complex functions"
   ]
  },
  {
   "cell_type": "code",
   "execution_count": 26,
   "id": "4c7804a6",
   "metadata": {},
   "outputs": [],
   "source": [
    "import pandas as pd\n",
    "import numpy as np"
   ]
  },
  {
   "cell_type": "code",
   "execution_count": 27,
   "id": "43bd2adf",
   "metadata": {},
   "outputs": [
    {
     "data": {
      "text/html": [
       "<div>\n",
       "<style scoped>\n",
       "    .dataframe tbody tr th:only-of-type {\n",
       "        vertical-align: middle;\n",
       "    }\n",
       "\n",
       "    .dataframe tbody tr th {\n",
       "        vertical-align: top;\n",
       "    }\n",
       "\n",
       "    .dataframe thead th {\n",
       "        text-align: right;\n",
       "    }\n",
       "</style>\n",
       "<table border=\"1\" class=\"dataframe\">\n",
       "  <thead>\n",
       "    <tr style=\"text-align: right;\">\n",
       "      <th></th>\n",
       "      <th>0</th>\n",
       "      <th>1</th>\n",
       "      <th>2</th>\n",
       "      <th>3</th>\n",
       "      <th>4</th>\n",
       "    </tr>\n",
       "  </thead>\n",
       "  <tbody>\n",
       "    <tr>\n",
       "      <th>0</th>\n",
       "      <td>4.444444e+06</td>\n",
       "      <td>0.356706</td>\n",
       "      <td>0.867255</td>\n",
       "      <td>0.780201</td>\n",
       "      <td>0.291534</td>\n",
       "    </tr>\n",
       "    <tr>\n",
       "      <th>1</th>\n",
       "      <td>7.610382e-01</td>\n",
       "      <td>0.923045</td>\n",
       "      <td>0.753570</td>\n",
       "      <td>0.268786</td>\n",
       "      <td>0.390402</td>\n",
       "    </tr>\n",
       "    <tr>\n",
       "      <th>2</th>\n",
       "      <td>3.225475e-01</td>\n",
       "      <td>0.463014</td>\n",
       "      <td>0.680828</td>\n",
       "      <td>0.174043</td>\n",
       "      <td>0.318236</td>\n",
       "    </tr>\n",
       "    <tr>\n",
       "      <th>3</th>\n",
       "      <td>5.384118e-02</td>\n",
       "      <td>0.033368</td>\n",
       "      <td>0.203904</td>\n",
       "      <td>0.722816</td>\n",
       "      <td>0.455244</td>\n",
       "    </tr>\n",
       "    <tr>\n",
       "      <th>4</th>\n",
       "      <td>1.196873e-01</td>\n",
       "      <td>0.876600</td>\n",
       "      <td>0.194055</td>\n",
       "      <td>0.403510</td>\n",
       "      <td>0.364206</td>\n",
       "    </tr>\n",
       "    <tr>\n",
       "      <th>...</th>\n",
       "      <td>...</td>\n",
       "      <td>...</td>\n",
       "      <td>...</td>\n",
       "      <td>...</td>\n",
       "      <td>...</td>\n",
       "    </tr>\n",
       "    <tr>\n",
       "      <th>329</th>\n",
       "      <td>6.277221e-01</td>\n",
       "      <td>0.739972</td>\n",
       "      <td>0.580629</td>\n",
       "      <td>0.635118</td>\n",
       "      <td>0.469603</td>\n",
       "    </tr>\n",
       "    <tr>\n",
       "      <th>330</th>\n",
       "      <td>4.587279e-01</td>\n",
       "      <td>0.455600</td>\n",
       "      <td>0.847667</td>\n",
       "      <td>0.506431</td>\n",
       "      <td>0.076280</td>\n",
       "    </tr>\n",
       "    <tr>\n",
       "      <th>331</th>\n",
       "      <td>6.897871e-01</td>\n",
       "      <td>0.942063</td>\n",
       "      <td>0.655010</td>\n",
       "      <td>0.651538</td>\n",
       "      <td>0.209039</td>\n",
       "    </tr>\n",
       "    <tr>\n",
       "      <th>332</th>\n",
       "      <td>6.876025e-01</td>\n",
       "      <td>0.594273</td>\n",
       "      <td>0.116586</td>\n",
       "      <td>0.360768</td>\n",
       "      <td>0.271495</td>\n",
       "    </tr>\n",
       "    <tr>\n",
       "      <th>333</th>\n",
       "      <td>5.580531e-01</td>\n",
       "      <td>0.398693</td>\n",
       "      <td>0.166326</td>\n",
       "      <td>0.478666</td>\n",
       "      <td>0.097358</td>\n",
       "    </tr>\n",
       "  </tbody>\n",
       "</table>\n",
       "<p>334 rows × 5 columns</p>\n",
       "</div>"
      ],
      "text/plain": [
       "                0         1         2         3         4\n",
       "0    4.444444e+06  0.356706  0.867255  0.780201  0.291534\n",
       "1    7.610382e-01  0.923045  0.753570  0.268786  0.390402\n",
       "2    3.225475e-01  0.463014  0.680828  0.174043  0.318236\n",
       "3    5.384118e-02  0.033368  0.203904  0.722816  0.455244\n",
       "4    1.196873e-01  0.876600  0.194055  0.403510  0.364206\n",
       "..            ...       ...       ...       ...       ...\n",
       "329  6.277221e-01  0.739972  0.580629  0.635118  0.469603\n",
       "330  4.587279e-01  0.455600  0.847667  0.506431  0.076280\n",
       "331  6.897871e-01  0.942063  0.655010  0.651538  0.209039\n",
       "332  6.876025e-01  0.594273  0.116586  0.360768  0.271495\n",
       "333  5.580531e-01  0.398693  0.166326  0.478666  0.097358\n",
       "\n",
       "[334 rows x 5 columns]"
      ]
     },
     "execution_count": 27,
     "metadata": {},
     "output_type": "execute_result"
    }
   ],
   "source": [
    "newdf"
   ]
  },
  {
   "cell_type": "code",
   "execution_count": 28,
   "id": "813caab8",
   "metadata": {},
   "outputs": [
    {
     "data": {
      "text/html": [
       "<div>\n",
       "<style scoped>\n",
       "    .dataframe tbody tr th:only-of-type {\n",
       "        vertical-align: middle;\n",
       "    }\n",
       "\n",
       "    .dataframe tbody tr th {\n",
       "        vertical-align: top;\n",
       "    }\n",
       "\n",
       "    .dataframe thead th {\n",
       "        text-align: right;\n",
       "    }\n",
       "</style>\n",
       "<table border=\"1\" class=\"dataframe\">\n",
       "  <thead>\n",
       "    <tr style=\"text-align: right;\">\n",
       "      <th></th>\n",
       "      <th>0</th>\n",
       "      <th>1</th>\n",
       "      <th>2</th>\n",
       "      <th>3</th>\n",
       "      <th>4</th>\n",
       "    </tr>\n",
       "  </thead>\n",
       "  <tbody>\n",
       "    <tr>\n",
       "      <th>3</th>\n",
       "      <td>0.053841</td>\n",
       "      <td>0.033368</td>\n",
       "      <td>0.203904</td>\n",
       "      <td>0.722816</td>\n",
       "      <td>0.455244</td>\n",
       "    </tr>\n",
       "    <tr>\n",
       "      <th>4</th>\n",
       "      <td>0.119687</td>\n",
       "      <td>0.876600</td>\n",
       "      <td>0.194055</td>\n",
       "      <td>0.403510</td>\n",
       "      <td>0.364206</td>\n",
       "    </tr>\n",
       "    <tr>\n",
       "      <th>15</th>\n",
       "      <td>0.087281</td>\n",
       "      <td>0.591940</td>\n",
       "      <td>0.271675</td>\n",
       "      <td>0.524591</td>\n",
       "      <td>0.508535</td>\n",
       "    </tr>\n",
       "    <tr>\n",
       "      <th>18</th>\n",
       "      <td>0.179027</td>\n",
       "      <td>0.653604</td>\n",
       "      <td>0.374691</td>\n",
       "      <td>0.718934</td>\n",
       "      <td>0.509662</td>\n",
       "    </tr>\n",
       "    <tr>\n",
       "      <th>26</th>\n",
       "      <td>0.052841</td>\n",
       "      <td>0.945845</td>\n",
       "      <td>0.205608</td>\n",
       "      <td>0.031964</td>\n",
       "      <td>0.695902</td>\n",
       "    </tr>\n",
       "    <tr>\n",
       "      <th>...</th>\n",
       "      <td>...</td>\n",
       "      <td>...</td>\n",
       "      <td>...</td>\n",
       "      <td>...</td>\n",
       "      <td>...</td>\n",
       "    </tr>\n",
       "    <tr>\n",
       "      <th>303</th>\n",
       "      <td>0.053779</td>\n",
       "      <td>0.609480</td>\n",
       "      <td>0.396994</td>\n",
       "      <td>0.315194</td>\n",
       "      <td>0.397077</td>\n",
       "    </tr>\n",
       "    <tr>\n",
       "      <th>315</th>\n",
       "      <td>0.217470</td>\n",
       "      <td>0.659976</td>\n",
       "      <td>0.932727</td>\n",
       "      <td>0.955876</td>\n",
       "      <td>0.586720</td>\n",
       "    </tr>\n",
       "    <tr>\n",
       "      <th>316</th>\n",
       "      <td>0.253876</td>\n",
       "      <td>0.579385</td>\n",
       "      <td>0.639300</td>\n",
       "      <td>0.944725</td>\n",
       "      <td>0.147565</td>\n",
       "    </tr>\n",
       "    <tr>\n",
       "      <th>322</th>\n",
       "      <td>0.213049</td>\n",
       "      <td>0.790511</td>\n",
       "      <td>0.992286</td>\n",
       "      <td>0.392241</td>\n",
       "      <td>0.355829</td>\n",
       "    </tr>\n",
       "    <tr>\n",
       "      <th>327</th>\n",
       "      <td>0.173073</td>\n",
       "      <td>0.399285</td>\n",
       "      <td>0.841467</td>\n",
       "      <td>0.567683</td>\n",
       "      <td>0.660754</td>\n",
       "    </tr>\n",
       "  </tbody>\n",
       "</table>\n",
       "<p>101 rows × 5 columns</p>\n",
       "</div>"
      ],
      "text/plain": [
       "            0         1         2         3         4\n",
       "3    0.053841  0.033368  0.203904  0.722816  0.455244\n",
       "4    0.119687  0.876600  0.194055  0.403510  0.364206\n",
       "15   0.087281  0.591940  0.271675  0.524591  0.508535\n",
       "18   0.179027  0.653604  0.374691  0.718934  0.509662\n",
       "26   0.052841  0.945845  0.205608  0.031964  0.695902\n",
       "..        ...       ...       ...       ...       ...\n",
       "303  0.053779  0.609480  0.396994  0.315194  0.397077\n",
       "315  0.217470  0.659976  0.932727  0.955876  0.586720\n",
       "316  0.253876  0.579385  0.639300  0.944725  0.147565\n",
       "322  0.213049  0.790511  0.992286  0.392241  0.355829\n",
       "327  0.173073  0.399285  0.841467  0.567683  0.660754\n",
       "\n",
       "[101 rows x 5 columns]"
      ]
     },
     "execution_count": 28,
     "metadata": {},
     "output_type": "execute_result"
    }
   ],
   "source": [
    "newdf.loc[(newdf[0]<0.3)]"
   ]
  },
  {
   "cell_type": "code",
   "execution_count": 29,
   "id": "163a2cd7",
   "metadata": {},
   "outputs": [
    {
     "data": {
      "text/html": [
       "<div>\n",
       "<style scoped>\n",
       "    .dataframe tbody tr th:only-of-type {\n",
       "        vertical-align: middle;\n",
       "    }\n",
       "\n",
       "    .dataframe tbody tr th {\n",
       "        vertical-align: top;\n",
       "    }\n",
       "\n",
       "    .dataframe thead th {\n",
       "        text-align: right;\n",
       "    }\n",
       "</style>\n",
       "<table border=\"1\" class=\"dataframe\">\n",
       "  <thead>\n",
       "    <tr style=\"text-align: right;\">\n",
       "      <th></th>\n",
       "      <th>0</th>\n",
       "      <th>1</th>\n",
       "      <th>2</th>\n",
       "      <th>3</th>\n",
       "      <th>4</th>\n",
       "    </tr>\n",
       "  </thead>\n",
       "  <tbody>\n",
       "    <tr>\n",
       "      <th>3</th>\n",
       "      <td>0.053841</td>\n",
       "      <td>0.033368</td>\n",
       "      <td>0.203904</td>\n",
       "      <td>0.722816</td>\n",
       "      <td>0.455244</td>\n",
       "    </tr>\n",
       "    <tr>\n",
       "      <th>4</th>\n",
       "      <td>0.119687</td>\n",
       "      <td>0.876600</td>\n",
       "      <td>0.194055</td>\n",
       "      <td>0.403510</td>\n",
       "      <td>0.364206</td>\n",
       "    </tr>\n",
       "    <tr>\n",
       "      <th>15</th>\n",
       "      <td>0.087281</td>\n",
       "      <td>0.591940</td>\n",
       "      <td>0.271675</td>\n",
       "      <td>0.524591</td>\n",
       "      <td>0.508535</td>\n",
       "    </tr>\n",
       "    <tr>\n",
       "      <th>18</th>\n",
       "      <td>0.179027</td>\n",
       "      <td>0.653604</td>\n",
       "      <td>0.374691</td>\n",
       "      <td>0.718934</td>\n",
       "      <td>0.509662</td>\n",
       "    </tr>\n",
       "    <tr>\n",
       "      <th>26</th>\n",
       "      <td>0.052841</td>\n",
       "      <td>0.945845</td>\n",
       "      <td>0.205608</td>\n",
       "      <td>0.031964</td>\n",
       "      <td>0.695902</td>\n",
       "    </tr>\n",
       "    <tr>\n",
       "      <th>...</th>\n",
       "      <td>...</td>\n",
       "      <td>...</td>\n",
       "      <td>...</td>\n",
       "      <td>...</td>\n",
       "      <td>...</td>\n",
       "    </tr>\n",
       "    <tr>\n",
       "      <th>303</th>\n",
       "      <td>0.053779</td>\n",
       "      <td>0.609480</td>\n",
       "      <td>0.396994</td>\n",
       "      <td>0.315194</td>\n",
       "      <td>0.397077</td>\n",
       "    </tr>\n",
       "    <tr>\n",
       "      <th>315</th>\n",
       "      <td>0.217470</td>\n",
       "      <td>0.659976</td>\n",
       "      <td>0.932727</td>\n",
       "      <td>0.955876</td>\n",
       "      <td>0.586720</td>\n",
       "    </tr>\n",
       "    <tr>\n",
       "      <th>316</th>\n",
       "      <td>0.253876</td>\n",
       "      <td>0.579385</td>\n",
       "      <td>0.639300</td>\n",
       "      <td>0.944725</td>\n",
       "      <td>0.147565</td>\n",
       "    </tr>\n",
       "    <tr>\n",
       "      <th>322</th>\n",
       "      <td>0.213049</td>\n",
       "      <td>0.790511</td>\n",
       "      <td>0.992286</td>\n",
       "      <td>0.392241</td>\n",
       "      <td>0.355829</td>\n",
       "    </tr>\n",
       "    <tr>\n",
       "      <th>327</th>\n",
       "      <td>0.173073</td>\n",
       "      <td>0.399285</td>\n",
       "      <td>0.841467</td>\n",
       "      <td>0.567683</td>\n",
       "      <td>0.660754</td>\n",
       "    </tr>\n",
       "  </tbody>\n",
       "</table>\n",
       "<p>91 rows × 5 columns</p>\n",
       "</div>"
      ],
      "text/plain": [
       "            0         1         2         3         4\n",
       "3    0.053841  0.033368  0.203904  0.722816  0.455244\n",
       "4    0.119687  0.876600  0.194055  0.403510  0.364206\n",
       "15   0.087281  0.591940  0.271675  0.524591  0.508535\n",
       "18   0.179027  0.653604  0.374691  0.718934  0.509662\n",
       "26   0.052841  0.945845  0.205608  0.031964  0.695902\n",
       "..        ...       ...       ...       ...       ...\n",
       "303  0.053779  0.609480  0.396994  0.315194  0.397077\n",
       "315  0.217470  0.659976  0.932727  0.955876  0.586720\n",
       "316  0.253876  0.579385  0.639300  0.944725  0.147565\n",
       "322  0.213049  0.790511  0.992286  0.392241  0.355829\n",
       "327  0.173073  0.399285  0.841467  0.567683  0.660754\n",
       "\n",
       "[91 rows x 5 columns]"
      ]
     },
     "execution_count": 29,
     "metadata": {},
     "output_type": "execute_result"
    }
   ],
   "source": [
    "newdf.loc[(newdf[0]<0.3) & (newdf[2]>0.1)]"
   ]
  },
  {
   "cell_type": "code",
   "execution_count": 30,
   "id": "bf66b926",
   "metadata": {},
   "outputs": [
    {
     "data": {
      "text/plain": [
       "0.2915342090770543"
      ]
     },
     "execution_count": 30,
     "metadata": {},
     "output_type": "execute_result"
    }
   ],
   "source": [
    "newdf.iloc[0,4]"
   ]
  },
  {
   "cell_type": "code",
   "execution_count": 31,
   "id": "961b7d05",
   "metadata": {},
   "outputs": [
    {
     "data": {
      "text/html": [
       "<div>\n",
       "<style scoped>\n",
       "    .dataframe tbody tr th:only-of-type {\n",
       "        vertical-align: middle;\n",
       "    }\n",
       "\n",
       "    .dataframe tbody tr th {\n",
       "        vertical-align: top;\n",
       "    }\n",
       "\n",
       "    .dataframe thead th {\n",
       "        text-align: right;\n",
       "    }\n",
       "</style>\n",
       "<table border=\"1\" class=\"dataframe\">\n",
       "  <thead>\n",
       "    <tr style=\"text-align: right;\">\n",
       "      <th></th>\n",
       "      <th>0</th>\n",
       "      <th>1</th>\n",
       "      <th>2</th>\n",
       "      <th>3</th>\n",
       "      <th>4</th>\n",
       "    </tr>\n",
       "  </thead>\n",
       "  <tbody>\n",
       "    <tr>\n",
       "      <th>0</th>\n",
       "      <td>4.444444e+06</td>\n",
       "      <td>0.356706</td>\n",
       "      <td>0.867255</td>\n",
       "      <td>0.780201</td>\n",
       "      <td>0.291534</td>\n",
       "    </tr>\n",
       "    <tr>\n",
       "      <th>2</th>\n",
       "      <td>3.225475e-01</td>\n",
       "      <td>0.463014</td>\n",
       "      <td>0.680828</td>\n",
       "      <td>0.174043</td>\n",
       "      <td>0.318236</td>\n",
       "    </tr>\n",
       "    <tr>\n",
       "      <th>3</th>\n",
       "      <td>5.384118e-02</td>\n",
       "      <td>0.033368</td>\n",
       "      <td>0.203904</td>\n",
       "      <td>0.722816</td>\n",
       "      <td>0.455244</td>\n",
       "    </tr>\n",
       "    <tr>\n",
       "      <th>4</th>\n",
       "      <td>1.196873e-01</td>\n",
       "      <td>0.876600</td>\n",
       "      <td>0.194055</td>\n",
       "      <td>0.403510</td>\n",
       "      <td>0.364206</td>\n",
       "    </tr>\n",
       "    <tr>\n",
       "      <th>5</th>\n",
       "      <td>8.298954e-01</td>\n",
       "      <td>0.405635</td>\n",
       "      <td>0.487957</td>\n",
       "      <td>0.256697</td>\n",
       "      <td>0.963871</td>\n",
       "    </tr>\n",
       "    <tr>\n",
       "      <th>...</th>\n",
       "      <td>...</td>\n",
       "      <td>...</td>\n",
       "      <td>...</td>\n",
       "      <td>...</td>\n",
       "      <td>...</td>\n",
       "    </tr>\n",
       "    <tr>\n",
       "      <th>329</th>\n",
       "      <td>6.277221e-01</td>\n",
       "      <td>0.739972</td>\n",
       "      <td>0.580629</td>\n",
       "      <td>0.635118</td>\n",
       "      <td>0.469603</td>\n",
       "    </tr>\n",
       "    <tr>\n",
       "      <th>330</th>\n",
       "      <td>4.587279e-01</td>\n",
       "      <td>0.455600</td>\n",
       "      <td>0.847667</td>\n",
       "      <td>0.506431</td>\n",
       "      <td>0.076280</td>\n",
       "    </tr>\n",
       "    <tr>\n",
       "      <th>331</th>\n",
       "      <td>6.897871e-01</td>\n",
       "      <td>0.942063</td>\n",
       "      <td>0.655010</td>\n",
       "      <td>0.651538</td>\n",
       "      <td>0.209039</td>\n",
       "    </tr>\n",
       "    <tr>\n",
       "      <th>332</th>\n",
       "      <td>6.876025e-01</td>\n",
       "      <td>0.594273</td>\n",
       "      <td>0.116586</td>\n",
       "      <td>0.360768</td>\n",
       "      <td>0.271495</td>\n",
       "    </tr>\n",
       "    <tr>\n",
       "      <th>333</th>\n",
       "      <td>5.580531e-01</td>\n",
       "      <td>0.398693</td>\n",
       "      <td>0.166326</td>\n",
       "      <td>0.478666</td>\n",
       "      <td>0.097358</td>\n",
       "    </tr>\n",
       "  </tbody>\n",
       "</table>\n",
       "<p>333 rows × 5 columns</p>\n",
       "</div>"
      ],
      "text/plain": [
       "                0         1         2         3         4\n",
       "0    4.444444e+06  0.356706  0.867255  0.780201  0.291534\n",
       "2    3.225475e-01  0.463014  0.680828  0.174043  0.318236\n",
       "3    5.384118e-02  0.033368  0.203904  0.722816  0.455244\n",
       "4    1.196873e-01  0.876600  0.194055  0.403510  0.364206\n",
       "5    8.298954e-01  0.405635  0.487957  0.256697  0.963871\n",
       "..            ...       ...       ...       ...       ...\n",
       "329  6.277221e-01  0.739972  0.580629  0.635118  0.469603\n",
       "330  4.587279e-01  0.455600  0.847667  0.506431  0.076280\n",
       "331  6.897871e-01  0.942063  0.655010  0.651538  0.209039\n",
       "332  6.876025e-01  0.594273  0.116586  0.360768  0.271495\n",
       "333  5.580531e-01  0.398693  0.166326  0.478666  0.097358\n",
       "\n",
       "[333 rows x 5 columns]"
      ]
     },
     "execution_count": 31,
     "metadata": {},
     "output_type": "execute_result"
    }
   ],
   "source": [
    "newdf.drop(1)"
   ]
  },
  {
   "cell_type": "code",
   "execution_count": 1,
   "id": "c53cdde1",
   "metadata": {},
   "outputs": [
    {
     "ename": "NameError",
     "evalue": "name 'newdf' is not defined",
     "output_type": "error",
     "traceback": [
      "\u001b[1;31m---------------------------------------------------------------------------\u001b[0m",
      "\u001b[1;31mNameError\u001b[0m                                 Traceback (most recent call last)",
      "Input \u001b[1;32mIn [1]\u001b[0m, in \u001b[0;36m<module>\u001b[1;34m\u001b[0m\n\u001b[1;32m----> 1\u001b[0m \u001b[43mnewdf\u001b[49m\n",
      "\u001b[1;31mNameError\u001b[0m: name 'newdf' is not defined"
     ]
    }
   ],
   "source": [
    "newdf"
   ]
  },
  {
   "cell_type": "code",
   "execution_count": 2,
   "id": "47095722",
   "metadata": {},
   "outputs": [],
   "source": [
    "import pandas as pd\n",
    "import numpy as np"
   ]
  },
  {
   "cell_type": "code",
   "execution_count": 3,
   "id": "c705e1cd",
   "metadata": {},
   "outputs": [
    {
     "ename": "NameError",
     "evalue": "name 'newdf' is not defined",
     "output_type": "error",
     "traceback": [
      "\u001b[1;31m---------------------------------------------------------------------------\u001b[0m",
      "\u001b[1;31mNameError\u001b[0m                                 Traceback (most recent call last)",
      "Input \u001b[1;32mIn [3]\u001b[0m, in \u001b[0;36m<module>\u001b[1;34m\u001b[0m\n\u001b[1;32m----> 1\u001b[0m \u001b[43mnewdf\u001b[49m\n",
      "\u001b[1;31mNameError\u001b[0m: name 'newdf' is not defined"
     ]
    }
   ],
   "source": [
    "newdf"
   ]
  },
  {
   "cell_type": "code",
   "execution_count": 4,
   "id": "e478591a",
   "metadata": {},
   "outputs": [],
   "source": [
    "newdf = pd.DataFrame(np.random.rand(334,5),index = np.arange(334))"
   ]
  },
  {
   "cell_type": "code",
   "execution_count": 5,
   "id": "b6be3f4c",
   "metadata": {},
   "outputs": [
    {
     "data": {
      "text/html": [
       "<div>\n",
       "<style scoped>\n",
       "    .dataframe tbody tr th:only-of-type {\n",
       "        vertical-align: middle;\n",
       "    }\n",
       "\n",
       "    .dataframe tbody tr th {\n",
       "        vertical-align: top;\n",
       "    }\n",
       "\n",
       "    .dataframe thead th {\n",
       "        text-align: right;\n",
       "    }\n",
       "</style>\n",
       "<table border=\"1\" class=\"dataframe\">\n",
       "  <thead>\n",
       "    <tr style=\"text-align: right;\">\n",
       "      <th></th>\n",
       "      <th>0</th>\n",
       "      <th>1</th>\n",
       "      <th>2</th>\n",
       "      <th>3</th>\n",
       "      <th>4</th>\n",
       "    </tr>\n",
       "  </thead>\n",
       "  <tbody>\n",
       "    <tr>\n",
       "      <th>0</th>\n",
       "      <td>0.877604</td>\n",
       "      <td>0.455001</td>\n",
       "      <td>0.451262</td>\n",
       "      <td>0.309657</td>\n",
       "      <td>0.487086</td>\n",
       "    </tr>\n",
       "    <tr>\n",
       "      <th>1</th>\n",
       "      <td>0.757953</td>\n",
       "      <td>0.817300</td>\n",
       "      <td>0.698169</td>\n",
       "      <td>0.713667</td>\n",
       "      <td>0.391940</td>\n",
       "    </tr>\n",
       "    <tr>\n",
       "      <th>2</th>\n",
       "      <td>0.322755</td>\n",
       "      <td>0.761951</td>\n",
       "      <td>0.937646</td>\n",
       "      <td>0.463781</td>\n",
       "      <td>0.980626</td>\n",
       "    </tr>\n",
       "    <tr>\n",
       "      <th>3</th>\n",
       "      <td>0.876475</td>\n",
       "      <td>0.265000</td>\n",
       "      <td>0.744188</td>\n",
       "      <td>0.582286</td>\n",
       "      <td>0.227060</td>\n",
       "    </tr>\n",
       "    <tr>\n",
       "      <th>4</th>\n",
       "      <td>0.069706</td>\n",
       "      <td>0.490169</td>\n",
       "      <td>0.952482</td>\n",
       "      <td>0.365175</td>\n",
       "      <td>0.254405</td>\n",
       "    </tr>\n",
       "    <tr>\n",
       "      <th>...</th>\n",
       "      <td>...</td>\n",
       "      <td>...</td>\n",
       "      <td>...</td>\n",
       "      <td>...</td>\n",
       "      <td>...</td>\n",
       "    </tr>\n",
       "    <tr>\n",
       "      <th>329</th>\n",
       "      <td>0.116325</td>\n",
       "      <td>0.270571</td>\n",
       "      <td>0.080729</td>\n",
       "      <td>0.174802</td>\n",
       "      <td>0.921107</td>\n",
       "    </tr>\n",
       "    <tr>\n",
       "      <th>330</th>\n",
       "      <td>0.328091</td>\n",
       "      <td>0.943039</td>\n",
       "      <td>0.883498</td>\n",
       "      <td>0.383463</td>\n",
       "      <td>0.990681</td>\n",
       "    </tr>\n",
       "    <tr>\n",
       "      <th>331</th>\n",
       "      <td>0.491522</td>\n",
       "      <td>0.857877</td>\n",
       "      <td>0.352191</td>\n",
       "      <td>0.312825</td>\n",
       "      <td>0.165144</td>\n",
       "    </tr>\n",
       "    <tr>\n",
       "      <th>332</th>\n",
       "      <td>0.408820</td>\n",
       "      <td>0.333175</td>\n",
       "      <td>0.531142</td>\n",
       "      <td>0.608636</td>\n",
       "      <td>0.834171</td>\n",
       "    </tr>\n",
       "    <tr>\n",
       "      <th>333</th>\n",
       "      <td>0.163792</td>\n",
       "      <td>0.656410</td>\n",
       "      <td>0.340915</td>\n",
       "      <td>0.919871</td>\n",
       "      <td>0.851926</td>\n",
       "    </tr>\n",
       "  </tbody>\n",
       "</table>\n",
       "<p>334 rows × 5 columns</p>\n",
       "</div>"
      ],
      "text/plain": [
       "            0         1         2         3         4\n",
       "0    0.877604  0.455001  0.451262  0.309657  0.487086\n",
       "1    0.757953  0.817300  0.698169  0.713667  0.391940\n",
       "2    0.322755  0.761951  0.937646  0.463781  0.980626\n",
       "3    0.876475  0.265000  0.744188  0.582286  0.227060\n",
       "4    0.069706  0.490169  0.952482  0.365175  0.254405\n",
       "..        ...       ...       ...       ...       ...\n",
       "329  0.116325  0.270571  0.080729  0.174802  0.921107\n",
       "330  0.328091  0.943039  0.883498  0.383463  0.990681\n",
       "331  0.491522  0.857877  0.352191  0.312825  0.165144\n",
       "332  0.408820  0.333175  0.531142  0.608636  0.834171\n",
       "333  0.163792  0.656410  0.340915  0.919871  0.851926\n",
       "\n",
       "[334 rows x 5 columns]"
      ]
     },
     "execution_count": 5,
     "metadata": {},
     "output_type": "execute_result"
    }
   ],
   "source": [
    "newdf"
   ]
  },
  {
   "cell_type": "code",
   "execution_count": null,
   "id": "23442abb",
   "metadata": {},
   "outputs": [],
   "source": []
  }
 ],
 "metadata": {
  "kernelspec": {
   "display_name": "Python 3 (ipykernel)",
   "language": "python",
   "name": "python3"
  },
  "language_info": {
   "codemirror_mode": {
    "name": "ipython",
    "version": 3
   },
   "file_extension": ".py",
   "mimetype": "text/x-python",
   "name": "python",
   "nbconvert_exporter": "python",
   "pygments_lexer": "ipython3",
   "version": "3.10.0"
  }
 },
 "nbformat": 4,
 "nbformat_minor": 5
}
